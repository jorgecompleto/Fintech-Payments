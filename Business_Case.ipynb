{
 "cells": [
  {
   "cell_type": "markdown",
   "id": "19550976-32e1-4589-a3a4-d2b8308bf0d5",
   "metadata": {},
   "source": [
    "# Glovo Fintech Assessment"
   ]
  },
  {
   "cell_type": "markdown",
   "id": "6026db27-6f75-4a5d-8d57-e4b5a51ce6c0",
   "metadata": {},
   "source": [
    "### 1. Read the data"
   ]
  },
  {
   "cell_type": "code",
   "execution_count": 183,
   "id": "3a6bfe20-ae3b-48d7-b7b4-f5e3c66163f3",
   "metadata": {},
   "outputs": [],
   "source": [
    "import pandas as pd\n",
    "import numpy as np\n",
    "import black\n",
    "import seaborn as sns\n",
    "import matplotlib.pyplot as plt\n",
    "from scipy.stats import chi2_contingency"
   ]
  },
  {
   "cell_type": "code",
   "execution_count": 19,
   "id": "e3ffe591-2065-4e3a-9c03-3493af36a3e5",
   "metadata": {},
   "outputs": [],
   "source": [
    "path = \"~/Documents/Git/Fintech-Payments/data_sample.xlsx\"  # Parameterize this path\n",
    "df = pd.read_excel(path, sheet_name=\"Data sample city N weekly order\")"
   ]
  },
  {
   "cell_type": "markdown",
   "id": "a4c66e9d-0744-4f1a-9693-3ce041c69d88",
   "metadata": {},
   "source": [
    "### 2. Data Exploration and Preprocessing"
   ]
  },
  {
   "cell_type": "code",
   "execution_count": 21,
   "id": "96358311-c0a9-4a0a-8fd0-6fb7397e77a3",
   "metadata": {},
   "outputs": [
    {
     "data": {
      "text/html": [
       "<div>\n",
       "<style scoped>\n",
       "    .dataframe tbody tr th:only-of-type {\n",
       "        vertical-align: middle;\n",
       "    }\n",
       "\n",
       "    .dataframe tbody tr th {\n",
       "        vertical-align: top;\n",
       "    }\n",
       "\n",
       "    .dataframe thead th {\n",
       "        text-align: right;\n",
       "    }\n",
       "</style>\n",
       "<table border=\"1\" class=\"dataframe\">\n",
       "  <thead>\n",
       "    <tr style=\"text-align: right;\">\n",
       "      <th></th>\n",
       "      <th>id</th>\n",
       "      <th>final_status</th>\n",
       "      <th>store_address_id</th>\n",
       "      <th>customer_id</th>\n",
       "      <th>courier_id</th>\n",
       "      <th>vertical</th>\n",
       "      <th>is_food</th>\n",
       "      <th>transport</th>\n",
       "      <th>number_of_assignments</th>\n",
       "      <th>total_real_distance</th>\n",
       "      <th>activation_time_local</th>\n",
       "      <th>last_courier_assigned_time</th>\n",
       "      <th>courier_started_order_local</th>\n",
       "      <th>courier_enters_pickup_time_local</th>\n",
       "      <th>pickup_time_local</th>\n",
       "      <th>courier_enters_delivery_point_time_local</th>\n",
       "      <th>termination_time</th>\n",
       "      <th>Count</th>\n",
       "      <th>Total Time</th>\n",
       "    </tr>\n",
       "  </thead>\n",
       "  <tbody>\n",
       "    <tr>\n",
       "      <th>0</th>\n",
       "      <td>53134335</td>\n",
       "      <td>DeliveredStatus</td>\n",
       "      <td>85260.0</td>\n",
       "      <td>18579597</td>\n",
       "      <td>20153483</td>\n",
       "      <td>WALL - Partner</td>\n",
       "      <td>True</td>\n",
       "      <td>BICYCLE</td>\n",
       "      <td>1</td>\n",
       "      <td>6.029</td>\n",
       "      <td>2019-07-13 13:04:44</td>\n",
       "      <td>2019-07-13 13:05:32</td>\n",
       "      <td>2019-07-13 13:06:49</td>\n",
       "      <td>2019-07-13 13:09:13</td>\n",
       "      <td>2019-07-13 13:28:45</td>\n",
       "      <td>2019-07-13 13:46:58</td>\n",
       "      <td>2019-07-13 13:59:49</td>\n",
       "      <td>NaN</td>\n",
       "      <td>55</td>\n",
       "    </tr>\n",
       "    <tr>\n",
       "      <th>1</th>\n",
       "      <td>53009545</td>\n",
       "      <td>DeliveredStatus</td>\n",
       "      <td>23517.0</td>\n",
       "      <td>11871195</td>\n",
       "      <td>20153483</td>\n",
       "      <td>WALL - Partner</td>\n",
       "      <td>True</td>\n",
       "      <td>BICYCLE</td>\n",
       "      <td>1</td>\n",
       "      <td>3.998</td>\n",
       "      <td>2019-07-12 20:06:29</td>\n",
       "      <td>2019-07-12 20:10:42</td>\n",
       "      <td>2019-07-12 20:11:02</td>\n",
       "      <td>2019-07-12 20:16:05</td>\n",
       "      <td>2019-07-12 20:23:07</td>\n",
       "      <td>2019-07-12 20:37:53</td>\n",
       "      <td>2019-07-12 20:43:01</td>\n",
       "      <td>NaN</td>\n",
       "      <td>36</td>\n",
       "    </tr>\n",
       "    <tr>\n",
       "      <th>2</th>\n",
       "      <td>53129297</td>\n",
       "      <td>DeliveredStatus</td>\n",
       "      <td>18300.0</td>\n",
       "      <td>1053786</td>\n",
       "      <td>20153483</td>\n",
       "      <td>WALL - Partner</td>\n",
       "      <td>True</td>\n",
       "      <td>BICYCLE</td>\n",
       "      <td>1</td>\n",
       "      <td>5.309</td>\n",
       "      <td>2019-07-13 12:14:58</td>\n",
       "      <td>2019-07-13 12:15:44</td>\n",
       "      <td>2019-07-13 12:23:40</td>\n",
       "      <td>2019-07-13 12:45:16</td>\n",
       "      <td>2019-07-13 12:50:09</td>\n",
       "      <td>2019-07-13 12:55:16</td>\n",
       "      <td>2019-07-13 12:59:23</td>\n",
       "      <td>NaN</td>\n",
       "      <td>44</td>\n",
       "    </tr>\n",
       "    <tr>\n",
       "      <th>3</th>\n",
       "      <td>53235752</td>\n",
       "      <td>CanceledStatus</td>\n",
       "      <td>85260.0</td>\n",
       "      <td>20466508</td>\n",
       "      <td>20153483</td>\n",
       "      <td>WALL - Partner</td>\n",
       "      <td>True</td>\n",
       "      <td>BICYCLE</td>\n",
       "      <td>1</td>\n",
       "      <td>6.429</td>\n",
       "      <td>2019-07-13 21:55:58</td>\n",
       "      <td>2019-07-13 22:24:58</td>\n",
       "      <td>2019-07-13 22:24:58</td>\n",
       "      <td>NaT</td>\n",
       "      <td>NaT</td>\n",
       "      <td>NaT</td>\n",
       "      <td>2019-07-13 22:25:15</td>\n",
       "      <td>NaN</td>\n",
       "      <td>29</td>\n",
       "    </tr>\n",
       "    <tr>\n",
       "      <th>4</th>\n",
       "      <td>53002671</td>\n",
       "      <td>DeliveredStatus</td>\n",
       "      <td>15912.0</td>\n",
       "      <td>16549489</td>\n",
       "      <td>20153483</td>\n",
       "      <td>WALL - Partner</td>\n",
       "      <td>True</td>\n",
       "      <td>BICYCLE</td>\n",
       "      <td>1</td>\n",
       "      <td>3.442</td>\n",
       "      <td>2019-07-12 19:40:13</td>\n",
       "      <td>2019-07-12 19:41:14</td>\n",
       "      <td>2019-07-12 19:42:34</td>\n",
       "      <td>2019-07-12 19:46:28</td>\n",
       "      <td>2019-07-12 19:56:59</td>\n",
       "      <td>2019-07-12 20:07:08</td>\n",
       "      <td>2019-07-12 20:10:37</td>\n",
       "      <td>NaN</td>\n",
       "      <td>30</td>\n",
       "    </tr>\n",
       "  </tbody>\n",
       "</table>\n",
       "</div>"
      ],
      "text/plain": [
       "         id     final_status  store_address_id  customer_id  courier_id  \\\n",
       "0  53134335  DeliveredStatus           85260.0     18579597    20153483   \n",
       "1  53009545  DeliveredStatus           23517.0     11871195    20153483   \n",
       "2  53129297  DeliveredStatus           18300.0      1053786    20153483   \n",
       "3  53235752   CanceledStatus           85260.0     20466508    20153483   \n",
       "4  53002671  DeliveredStatus           15912.0     16549489    20153483   \n",
       "\n",
       "         vertical  is_food transport  number_of_assignments  \\\n",
       "0  WALL - Partner     True   BICYCLE                      1   \n",
       "1  WALL - Partner     True   BICYCLE                      1   \n",
       "2  WALL - Partner     True   BICYCLE                      1   \n",
       "3  WALL - Partner     True   BICYCLE                      1   \n",
       "4  WALL - Partner     True   BICYCLE                      1   \n",
       "\n",
       "   total_real_distance activation_time_local last_courier_assigned_time  \\\n",
       "0                6.029   2019-07-13 13:04:44        2019-07-13 13:05:32   \n",
       "1                3.998   2019-07-12 20:06:29        2019-07-12 20:10:42   \n",
       "2                5.309   2019-07-13 12:14:58        2019-07-13 12:15:44   \n",
       "3                6.429   2019-07-13 21:55:58        2019-07-13 22:24:58   \n",
       "4                3.442   2019-07-12 19:40:13        2019-07-12 19:41:14   \n",
       "\n",
       "  courier_started_order_local courier_enters_pickup_time_local  \\\n",
       "0         2019-07-13 13:06:49              2019-07-13 13:09:13   \n",
       "1         2019-07-12 20:11:02              2019-07-12 20:16:05   \n",
       "2         2019-07-13 12:23:40              2019-07-13 12:45:16   \n",
       "3         2019-07-13 22:24:58                              NaT   \n",
       "4         2019-07-12 19:42:34              2019-07-12 19:46:28   \n",
       "\n",
       "    pickup_time_local courier_enters_delivery_point_time_local  \\\n",
       "0 2019-07-13 13:28:45                      2019-07-13 13:46:58   \n",
       "1 2019-07-12 20:23:07                      2019-07-12 20:37:53   \n",
       "2 2019-07-13 12:50:09                      2019-07-13 12:55:16   \n",
       "3                 NaT                                      NaT   \n",
       "4 2019-07-12 19:56:59                      2019-07-12 20:07:08   \n",
       "\n",
       "     termination_time  Count  Total Time  \n",
       "0 2019-07-13 13:59:49    NaN          55  \n",
       "1 2019-07-12 20:43:01    NaN          36  \n",
       "2 2019-07-13 12:59:23    NaN          44  \n",
       "3 2019-07-13 22:25:15    NaN          29  \n",
       "4 2019-07-12 20:10:37    NaN          30  "
      ]
     },
     "execution_count": 21,
     "metadata": {},
     "output_type": "execute_result"
    }
   ],
   "source": [
    "df.head()"
   ]
  },
  {
   "cell_type": "code",
   "execution_count": 116,
   "id": "c8711899-24d7-4630-8299-8570a1b58244",
   "metadata": {},
   "outputs": [
    {
     "data": {
      "text/html": [
       "<div>\n",
       "<style scoped>\n",
       "    .dataframe tbody tr th:only-of-type {\n",
       "        vertical-align: middle;\n",
       "    }\n",
       "\n",
       "    .dataframe tbody tr th {\n",
       "        vertical-align: top;\n",
       "    }\n",
       "\n",
       "    .dataframe thead th {\n",
       "        text-align: right;\n",
       "    }\n",
       "</style>\n",
       "<table border=\"1\" class=\"dataframe\">\n",
       "  <thead>\n",
       "    <tr style=\"text-align: right;\">\n",
       "      <th></th>\n",
       "      <th>count</th>\n",
       "      <th>mean</th>\n",
       "      <th>std</th>\n",
       "      <th>min</th>\n",
       "      <th>25%</th>\n",
       "      <th>50%</th>\n",
       "      <th>75%</th>\n",
       "      <th>max</th>\n",
       "    </tr>\n",
       "  </thead>\n",
       "  <tbody>\n",
       "    <tr>\n",
       "      <th>store_address_id</th>\n",
       "      <td>2440.0</td>\n",
       "      <td>2.927117e+04</td>\n",
       "      <td>2.187078e+04</td>\n",
       "      <td>15727.000</td>\n",
       "      <td>18300.000</td>\n",
       "      <td>18300.00</td>\n",
       "      <td>3.064000e+04</td>\n",
       "      <td>9.097100e+04</td>\n",
       "    </tr>\n",
       "    <tr>\n",
       "      <th>customer_id</th>\n",
       "      <td>2471.0</td>\n",
       "      <td>1.226381e+07</td>\n",
       "      <td>6.560418e+06</td>\n",
       "      <td>94425.000</td>\n",
       "      <td>5659130.500</td>\n",
       "      <td>13735060.00</td>\n",
       "      <td>1.813984e+07</td>\n",
       "      <td>2.062533e+07</td>\n",
       "    </tr>\n",
       "    <tr>\n",
       "      <th>courier_id</th>\n",
       "      <td>2471.0</td>\n",
       "      <td>1.391151e+07</td>\n",
       "      <td>4.934578e+06</td>\n",
       "      <td>2044461.000</td>\n",
       "      <td>9558769.000</td>\n",
       "      <td>14924108.00</td>\n",
       "      <td>1.778752e+07</td>\n",
       "      <td>2.055075e+07</td>\n",
       "    </tr>\n",
       "    <tr>\n",
       "      <th>number_of_assignments</th>\n",
       "      <td>2471.0</td>\n",
       "      <td>1.172805e+00</td>\n",
       "      <td>4.808951e-01</td>\n",
       "      <td>1.000</td>\n",
       "      <td>1.000</td>\n",
       "      <td>1.00</td>\n",
       "      <td>1.000000e+00</td>\n",
       "      <td>6.000000e+00</td>\n",
       "    </tr>\n",
       "    <tr>\n",
       "      <th>total_real_distance</th>\n",
       "      <td>2471.0</td>\n",
       "      <td>5.045905e+00</td>\n",
       "      <td>2.478414e+00</td>\n",
       "      <td>0.708</td>\n",
       "      <td>3.342</td>\n",
       "      <td>4.56</td>\n",
       "      <td>6.132000e+00</td>\n",
       "      <td>1.978900e+01</td>\n",
       "    </tr>\n",
       "    <tr>\n",
       "      <th>Total Time</th>\n",
       "      <td>2471.0</td>\n",
       "      <td>3.070943e+01</td>\n",
       "      <td>1.312946e+01</td>\n",
       "      <td>0.000</td>\n",
       "      <td>22.000</td>\n",
       "      <td>31.00</td>\n",
       "      <td>4.000000e+01</td>\n",
       "      <td>5.900000e+01</td>\n",
       "    </tr>\n",
       "  </tbody>\n",
       "</table>\n",
       "</div>"
      ],
      "text/plain": [
       "                        count          mean           std          min  \\\n",
       "store_address_id       2440.0  2.927117e+04  2.187078e+04    15727.000   \n",
       "customer_id            2471.0  1.226381e+07  6.560418e+06    94425.000   \n",
       "courier_id             2471.0  1.391151e+07  4.934578e+06  2044461.000   \n",
       "number_of_assignments  2471.0  1.172805e+00  4.808951e-01        1.000   \n",
       "total_real_distance    2471.0  5.045905e+00  2.478414e+00        0.708   \n",
       "Total Time             2471.0  3.070943e+01  1.312946e+01        0.000   \n",
       "\n",
       "                               25%          50%           75%           max  \n",
       "store_address_id         18300.000     18300.00  3.064000e+04  9.097100e+04  \n",
       "customer_id            5659130.500  13735060.00  1.813984e+07  2.062533e+07  \n",
       "courier_id             9558769.000  14924108.00  1.778752e+07  2.055075e+07  \n",
       "number_of_assignments        1.000         1.00  1.000000e+00  6.000000e+00  \n",
       "total_real_distance          3.342         4.56  6.132000e+00  1.978900e+01  \n",
       "Total Time                  22.000        31.00  4.000000e+01  5.900000e+01  "
      ]
     },
     "execution_count": 116,
     "metadata": {},
     "output_type": "execute_result"
    }
   ],
   "source": [
    "df.describe().T"
   ]
  },
  {
   "cell_type": "code",
   "execution_count": 120,
   "id": "e73adfe0-3a4a-448f-979d-0cbe7b728c1d",
   "metadata": {},
   "outputs": [
    {
     "data": {
      "text/html": [
       "<div>\n",
       "<style scoped>\n",
       "    .dataframe tbody tr th:only-of-type {\n",
       "        vertical-align: middle;\n",
       "    }\n",
       "\n",
       "    .dataframe tbody tr th {\n",
       "        vertical-align: top;\n",
       "    }\n",
       "\n",
       "    .dataframe thead th {\n",
       "        text-align: right;\n",
       "    }\n",
       "</style>\n",
       "<table border=\"1\" class=\"dataframe\">\n",
       "  <thead>\n",
       "    <tr style=\"text-align: right;\">\n",
       "      <th></th>\n",
       "      <th>final_status</th>\n",
       "      <th>vertical</th>\n",
       "      <th>transport</th>\n",
       "    </tr>\n",
       "  </thead>\n",
       "  <tbody>\n",
       "    <tr>\n",
       "      <th>count</th>\n",
       "      <td>2471</td>\n",
       "      <td>2471</td>\n",
       "      <td>2471</td>\n",
       "    </tr>\n",
       "    <tr>\n",
       "      <th>unique</th>\n",
       "      <td>2</td>\n",
       "      <td>3</td>\n",
       "      <td>3</td>\n",
       "    </tr>\n",
       "    <tr>\n",
       "      <th>top</th>\n",
       "      <td>DeliveredStatus</td>\n",
       "      <td>WALL - Partner</td>\n",
       "      <td>BICYCLE</td>\n",
       "    </tr>\n",
       "    <tr>\n",
       "      <th>freq</th>\n",
       "      <td>2389</td>\n",
       "      <td>2411</td>\n",
       "      <td>1255</td>\n",
       "    </tr>\n",
       "  </tbody>\n",
       "</table>\n",
       "</div>"
      ],
      "text/plain": [
       "           final_status        vertical transport\n",
       "count              2471            2471      2471\n",
       "unique                2               3         3\n",
       "top     DeliveredStatus  WALL - Partner   BICYCLE\n",
       "freq               2389            2411      1255"
      ]
     },
     "execution_count": 120,
     "metadata": {},
     "output_type": "execute_result"
    }
   ],
   "source": [
    "df.describe(include=[\"O\"])  # incluir as variáveis categóricas no describe"
   ]
  },
  {
   "cell_type": "code",
   "execution_count": 28,
   "id": "6372ad12-a0cc-487d-bbf2-9fa09636f521",
   "metadata": {},
   "outputs": [
    {
     "data": {
      "text/plain": [
       "id                                                   int64\n",
       "final_status                                        object\n",
       "store_address_id                                   float64\n",
       "customer_id                                          int64\n",
       "courier_id                                           int64\n",
       "vertical                                            object\n",
       "is_food                                               bool\n",
       "transport                                           object\n",
       "number_of_assignments                                int64\n",
       "total_real_distance                                float64\n",
       "activation_time_local                       datetime64[ns]\n",
       "last_courier_assigned_time                  datetime64[ns]\n",
       "courier_started_order_local                 datetime64[ns]\n",
       "courier_enters_pickup_time_local            datetime64[ns]\n",
       "pickup_time_local                           datetime64[ns]\n",
       "courier_enters_delivery_point_time_local    datetime64[ns]\n",
       "termination_time                            datetime64[ns]\n",
       "Count                                              float64\n",
       "Total Time                                           int64\n",
       "dtype: object"
      ]
     },
     "execution_count": 28,
     "metadata": {},
     "output_type": "execute_result"
    }
   ],
   "source": [
    "df.dtypes"
   ]
  },
  {
   "cell_type": "code",
   "execution_count": 115,
   "id": "3631f50d-a56e-45d2-a39b-ea39bb9c9eba",
   "metadata": {},
   "outputs": [
    {
     "data": {
      "text/html": [
       "<div>\n",
       "<style scoped>\n",
       "    .dataframe tbody tr th:only-of-type {\n",
       "        vertical-align: middle;\n",
       "    }\n",
       "\n",
       "    .dataframe tbody tr th {\n",
       "        vertical-align: top;\n",
       "    }\n",
       "\n",
       "    .dataframe thead th {\n",
       "        text-align: right;\n",
       "    }\n",
       "</style>\n",
       "<table border=\"1\" class=\"dataframe\">\n",
       "  <thead>\n",
       "    <tr style=\"text-align: right;\">\n",
       "      <th></th>\n",
       "      <th>final_status</th>\n",
       "      <th>store_address_id</th>\n",
       "      <th>customer_id</th>\n",
       "      <th>courier_id</th>\n",
       "      <th>vertical</th>\n",
       "      <th>is_food</th>\n",
       "      <th>transport</th>\n",
       "      <th>number_of_assignments</th>\n",
       "      <th>total_real_distance</th>\n",
       "      <th>activation_time_local</th>\n",
       "      <th>last_courier_assigned_time</th>\n",
       "      <th>courier_started_order_local</th>\n",
       "      <th>courier_enters_pickup_time_local</th>\n",
       "      <th>pickup_time_local</th>\n",
       "      <th>courier_enters_delivery_point_time_local</th>\n",
       "      <th>termination_time</th>\n",
       "      <th>Total Time</th>\n",
       "    </tr>\n",
       "    <tr>\n",
       "      <th>id</th>\n",
       "      <th></th>\n",
       "      <th></th>\n",
       "      <th></th>\n",
       "      <th></th>\n",
       "      <th></th>\n",
       "      <th></th>\n",
       "      <th></th>\n",
       "      <th></th>\n",
       "      <th></th>\n",
       "      <th></th>\n",
       "      <th></th>\n",
       "      <th></th>\n",
       "      <th></th>\n",
       "      <th></th>\n",
       "      <th></th>\n",
       "      <th></th>\n",
       "      <th></th>\n",
       "    </tr>\n",
       "  </thead>\n",
       "  <tbody>\n",
       "    <tr>\n",
       "      <th>53134335</th>\n",
       "      <td>DeliveredStatus</td>\n",
       "      <td>85260.0</td>\n",
       "      <td>18579597</td>\n",
       "      <td>20153483</td>\n",
       "      <td>WALL - Partner</td>\n",
       "      <td>True</td>\n",
       "      <td>BICYCLE</td>\n",
       "      <td>1</td>\n",
       "      <td>6.029</td>\n",
       "      <td>2019-07-13 13:04:44</td>\n",
       "      <td>2019-07-13 13:05:32</td>\n",
       "      <td>2019-07-13 13:06:49</td>\n",
       "      <td>2019-07-13 13:09:13</td>\n",
       "      <td>2019-07-13 13:28:45</td>\n",
       "      <td>2019-07-13 13:46:58</td>\n",
       "      <td>2019-07-13 13:59:49</td>\n",
       "      <td>55</td>\n",
       "    </tr>\n",
       "    <tr>\n",
       "      <th>53009545</th>\n",
       "      <td>DeliveredStatus</td>\n",
       "      <td>23517.0</td>\n",
       "      <td>11871195</td>\n",
       "      <td>20153483</td>\n",
       "      <td>WALL - Partner</td>\n",
       "      <td>True</td>\n",
       "      <td>BICYCLE</td>\n",
       "      <td>1</td>\n",
       "      <td>3.998</td>\n",
       "      <td>2019-07-12 20:06:29</td>\n",
       "      <td>2019-07-12 20:10:42</td>\n",
       "      <td>2019-07-12 20:11:02</td>\n",
       "      <td>2019-07-12 20:16:05</td>\n",
       "      <td>2019-07-12 20:23:07</td>\n",
       "      <td>2019-07-12 20:37:53</td>\n",
       "      <td>2019-07-12 20:43:01</td>\n",
       "      <td>36</td>\n",
       "    </tr>\n",
       "    <tr>\n",
       "      <th>53129297</th>\n",
       "      <td>DeliveredStatus</td>\n",
       "      <td>18300.0</td>\n",
       "      <td>1053786</td>\n",
       "      <td>20153483</td>\n",
       "      <td>WALL - Partner</td>\n",
       "      <td>True</td>\n",
       "      <td>BICYCLE</td>\n",
       "      <td>1</td>\n",
       "      <td>5.309</td>\n",
       "      <td>2019-07-13 12:14:58</td>\n",
       "      <td>2019-07-13 12:15:44</td>\n",
       "      <td>2019-07-13 12:23:40</td>\n",
       "      <td>2019-07-13 12:45:16</td>\n",
       "      <td>2019-07-13 12:50:09</td>\n",
       "      <td>2019-07-13 12:55:16</td>\n",
       "      <td>2019-07-13 12:59:23</td>\n",
       "      <td>44</td>\n",
       "    </tr>\n",
       "    <tr>\n",
       "      <th>53235752</th>\n",
       "      <td>CanceledStatus</td>\n",
       "      <td>85260.0</td>\n",
       "      <td>20466508</td>\n",
       "      <td>20153483</td>\n",
       "      <td>WALL - Partner</td>\n",
       "      <td>True</td>\n",
       "      <td>BICYCLE</td>\n",
       "      <td>1</td>\n",
       "      <td>6.429</td>\n",
       "      <td>2019-07-13 21:55:58</td>\n",
       "      <td>2019-07-13 22:24:58</td>\n",
       "      <td>2019-07-13 22:24:58</td>\n",
       "      <td>NaT</td>\n",
       "      <td>NaT</td>\n",
       "      <td>NaT</td>\n",
       "      <td>2019-07-13 22:25:15</td>\n",
       "      <td>29</td>\n",
       "    </tr>\n",
       "    <tr>\n",
       "      <th>53002671</th>\n",
       "      <td>DeliveredStatus</td>\n",
       "      <td>15912.0</td>\n",
       "      <td>16549489</td>\n",
       "      <td>20153483</td>\n",
       "      <td>WALL - Partner</td>\n",
       "      <td>True</td>\n",
       "      <td>BICYCLE</td>\n",
       "      <td>1</td>\n",
       "      <td>3.442</td>\n",
       "      <td>2019-07-12 19:40:13</td>\n",
       "      <td>2019-07-12 19:41:14</td>\n",
       "      <td>2019-07-12 19:42:34</td>\n",
       "      <td>2019-07-12 19:46:28</td>\n",
       "      <td>2019-07-12 19:56:59</td>\n",
       "      <td>2019-07-12 20:07:08</td>\n",
       "      <td>2019-07-12 20:10:37</td>\n",
       "      <td>30</td>\n",
       "    </tr>\n",
       "  </tbody>\n",
       "</table>\n",
       "</div>"
      ],
      "text/plain": [
       "             final_status  store_address_id  customer_id  courier_id  \\\n",
       "id                                                                     \n",
       "53134335  DeliveredStatus           85260.0     18579597    20153483   \n",
       "53009545  DeliveredStatus           23517.0     11871195    20153483   \n",
       "53129297  DeliveredStatus           18300.0      1053786    20153483   \n",
       "53235752   CanceledStatus           85260.0     20466508    20153483   \n",
       "53002671  DeliveredStatus           15912.0     16549489    20153483   \n",
       "\n",
       "                vertical  is_food transport  number_of_assignments  \\\n",
       "id                                                                   \n",
       "53134335  WALL - Partner     True   BICYCLE                      1   \n",
       "53009545  WALL - Partner     True   BICYCLE                      1   \n",
       "53129297  WALL - Partner     True   BICYCLE                      1   \n",
       "53235752  WALL - Partner     True   BICYCLE                      1   \n",
       "53002671  WALL - Partner     True   BICYCLE                      1   \n",
       "\n",
       "          total_real_distance activation_time_local  \\\n",
       "id                                                    \n",
       "53134335                6.029   2019-07-13 13:04:44   \n",
       "53009545                3.998   2019-07-12 20:06:29   \n",
       "53129297                5.309   2019-07-13 12:14:58   \n",
       "53235752                6.429   2019-07-13 21:55:58   \n",
       "53002671                3.442   2019-07-12 19:40:13   \n",
       "\n",
       "         last_courier_assigned_time courier_started_order_local  \\\n",
       "id                                                                \n",
       "53134335        2019-07-13 13:05:32         2019-07-13 13:06:49   \n",
       "53009545        2019-07-12 20:10:42         2019-07-12 20:11:02   \n",
       "53129297        2019-07-13 12:15:44         2019-07-13 12:23:40   \n",
       "53235752        2019-07-13 22:24:58         2019-07-13 22:24:58   \n",
       "53002671        2019-07-12 19:41:14         2019-07-12 19:42:34   \n",
       "\n",
       "         courier_enters_pickup_time_local   pickup_time_local  \\\n",
       "id                                                              \n",
       "53134335              2019-07-13 13:09:13 2019-07-13 13:28:45   \n",
       "53009545              2019-07-12 20:16:05 2019-07-12 20:23:07   \n",
       "53129297              2019-07-13 12:45:16 2019-07-13 12:50:09   \n",
       "53235752                              NaT                 NaT   \n",
       "53002671              2019-07-12 19:46:28 2019-07-12 19:56:59   \n",
       "\n",
       "         courier_enters_delivery_point_time_local    termination_time  \\\n",
       "id                                                                      \n",
       "53134335                      2019-07-13 13:46:58 2019-07-13 13:59:49   \n",
       "53009545                      2019-07-12 20:37:53 2019-07-12 20:43:01   \n",
       "53129297                      2019-07-13 12:55:16 2019-07-13 12:59:23   \n",
       "53235752                                      NaT 2019-07-13 22:25:15   \n",
       "53002671                      2019-07-12 20:07:08 2019-07-12 20:10:37   \n",
       "\n",
       "          Total Time  \n",
       "id                    \n",
       "53134335          55  \n",
       "53009545          36  \n",
       "53129297          44  \n",
       "53235752          29  \n",
       "53002671          30  "
      ]
     },
     "execution_count": 115,
     "metadata": {},
     "output_type": "execute_result"
    }
   ],
   "source": [
    "df.set_index(\"id\", inplace=True)\n",
    "df.head()"
   ]
  },
  {
   "cell_type": "code",
   "execution_count": 31,
   "id": "87e28872-df70-434a-9c91-5d3acbf92fdb",
   "metadata": {},
   "outputs": [
    {
     "data": {
      "text/plain": [
       "id                                             0\n",
       "final_status                                   0\n",
       "store_address_id                              31\n",
       "customer_id                                    0\n",
       "courier_id                                     0\n",
       "vertical                                       0\n",
       "is_food                                        0\n",
       "transport                                      0\n",
       "number_of_assignments                          0\n",
       "total_real_distance                            0\n",
       "activation_time_local                          0\n",
       "last_courier_assigned_time                     0\n",
       "courier_started_order_local                    0\n",
       "courier_enters_pickup_time_local              61\n",
       "pickup_time_local                             61\n",
       "courier_enters_delivery_point_time_local      67\n",
       "termination_time                               0\n",
       "Count                                       2471\n",
       "Total Time                                     0\n",
       "dtype: int64"
      ]
     },
     "execution_count": 31,
     "metadata": {},
     "output_type": "execute_result"
    }
   ],
   "source": [
    "df.isna().sum()"
   ]
  },
  {
   "cell_type": "markdown",
   "id": "83a225ca-2de2-43af-aa6f-7cc9dd4a5222",
   "metadata": {},
   "source": [
    "Drop Count feature as it only contains NaNs"
   ]
  },
  {
   "cell_type": "code",
   "execution_count": 32,
   "id": "aec320ef-530d-4573-b66d-84b8cd89dd9c",
   "metadata": {},
   "outputs": [],
   "source": [
    "df.drop(columns=\"Count\", inplace=True)"
   ]
  },
  {
   "cell_type": "code",
   "execution_count": 106,
   "id": "baf5a355-d98f-4230-afd1-01d71982a171",
   "metadata": {},
   "outputs": [
    {
     "data": {
      "text/plain": [
       "CanceledStatus    61\n",
       "Name: final_status, dtype: int64"
      ]
     },
     "execution_count": 106,
     "metadata": {},
     "output_type": "execute_result"
    }
   ],
   "source": [
    "df[df.courier_enters_pickup_time_local.isna()].final_status.value_counts(dropna=False)"
   ]
  },
  {
   "cell_type": "code",
   "execution_count": 107,
   "id": "84b73486-b5c5-4b5a-ad30-a1d769d17a24",
   "metadata": {},
   "outputs": [
    {
     "data": {
      "text/plain": [
       "CanceledStatus    61\n",
       "Name: final_status, dtype: int64"
      ]
     },
     "execution_count": 107,
     "metadata": {},
     "output_type": "execute_result"
    }
   ],
   "source": [
    "df[df.pickup_time_local.isna()].final_status.value_counts(dropna=False)"
   ]
  },
  {
   "cell_type": "code",
   "execution_count": 108,
   "id": "6d6006de-8b29-43ba-a81e-69a9d5ca7c41",
   "metadata": {},
   "outputs": [
    {
     "data": {
      "text/plain": [
       "CanceledStatus    67\n",
       "Name: final_status, dtype: int64"
      ]
     },
     "execution_count": 108,
     "metadata": {},
     "output_type": "execute_result"
    }
   ],
   "source": [
    "df[df.courier_enters_delivery_point_time_local.isna()].final_status.value_counts(\n",
    "    dropna=False\n",
    ")"
   ]
  },
  {
   "cell_type": "markdown",
   "id": "c8a210fd-b5e5-4df3-a957-02bd94334549",
   "metadata": {},
   "source": [
    "All the NaN instances of the above features occur when an order is cancelled, which is expected."
   ]
  },
  {
   "cell_type": "code",
   "execution_count": 110,
   "id": "26b76582-2a8e-4271-a6f8-62bf18a28b3b",
   "metadata": {
    "scrolled": true,
    "tags": []
   },
   "outputs": [
    {
     "data": {
      "text/plain": [
       "QUIERO    31\n",
       "Name: vertical, dtype: int64"
      ]
     },
     "execution_count": 110,
     "metadata": {},
     "output_type": "execute_result"
    }
   ],
   "source": [
    "df[df.store_address_id.isna()].vertical.value_counts(dropna=False)"
   ]
  },
  {
   "cell_type": "code",
   "execution_count": 112,
   "id": "8b0067ae-4218-452a-affb-253711387295",
   "metadata": {},
   "outputs": [
    {
     "data": {
      "text/plain": [
       "WALL - Partner       2411\n",
       "QUIERO                 31\n",
       "WALL - NonPartner      29\n",
       "Name: vertical, dtype: int64"
      ]
     },
     "execution_count": 112,
     "metadata": {},
     "output_type": "execute_result"
    }
   ],
   "source": [
    "df.vertical.value_counts(dropna=False)"
   ]
  },
  {
   "cell_type": "markdown",
   "id": "227ed1ad-e223-4695-9038-a896c8dfabd0",
   "metadata": {},
   "source": [
    "All the instances from store_address_id being NaN derive from QUIERO order. These type of orders do not have a store associated with it, therefore the NaNs are expected. However, in order to transform the store_address_id column into a integer column I will replace the NaNs by 0."
   ]
  },
  {
   "cell_type": "code",
   "execution_count": 265,
   "id": "a66136bb-7a8a-4935-a30b-65cbdfb64cc0",
   "metadata": {},
   "outputs": [],
   "source": [
    "# Replace NaNs with 0\n",
    "df[\"store_address_id\"].fillna(0, inplace=True)\n",
    "\n",
    "# Transform the store_address_id into a integer\n",
    "df[\"store_address_id\"] = df[\"store_address_id\"].astype(int)"
   ]
  },
  {
   "cell_type": "code",
   "execution_count": 266,
   "id": "cb343413-df84-4a8e-85dc-364caddadb0d",
   "metadata": {},
   "outputs": [
    {
     "data": {
      "text/plain": [
       "final_status                                0.000000\n",
       "store_address_id                            0.000000\n",
       "customer_id                                 0.000000\n",
       "courier_id                                  0.000000\n",
       "vertical                                    0.000000\n",
       "is_food                                     0.000000\n",
       "transport                                   0.000000\n",
       "number_of_assignments                       0.000000\n",
       "total_real_distance                         0.000000\n",
       "activation_time_local                       0.000000\n",
       "last_courier_assigned_time                  0.000000\n",
       "courier_started_order_local                 0.000000\n",
       "courier_enters_pickup_time_local            0.024686\n",
       "pickup_time_local                           0.024686\n",
       "courier_enters_delivery_point_time_local    0.027115\n",
       "termination_time                            0.000000\n",
       "Total Time                                  0.000000\n",
       "reassigned                                  0.000000\n",
       "store_address_id_grouped                    0.000000\n",
       "waiting_time_at_pickup                      0.024686\n",
       "waiting_time_seconds                        0.024686\n",
       "dtype: float64"
      ]
     },
     "execution_count": 266,
     "metadata": {},
     "output_type": "execute_result"
    }
   ],
   "source": [
    "df.isna().mean()"
   ]
  },
  {
   "cell_type": "code",
   "execution_count": 41,
   "id": "1f5fa6b9-72cd-48b5-94b6-205401dc0754",
   "metadata": {},
   "outputs": [
    {
     "data": {
      "text/plain": [
       "WALL - Partner       2411\n",
       "QUIERO                 31\n",
       "WALL - NonPartner      29\n",
       "Name: vertical, dtype: int64"
      ]
     },
     "execution_count": 41,
     "metadata": {},
     "output_type": "execute_result"
    }
   ],
   "source": [
    "df.vertical.value_counts()"
   ]
  },
  {
   "cell_type": "markdown",
   "id": "17d1cfb5-d2ff-4718-a897-1216ef287bf9",
   "metadata": {},
   "source": [
    "In vertical there should only be 3 types of label. I assume that 'COURIER' is the same as 'QUIERO'."
   ]
  },
  {
   "cell_type": "code",
   "execution_count": 40,
   "id": "d77cc0a6-6081-4c1d-bb26-012d6b9c451e",
   "metadata": {},
   "outputs": [],
   "source": [
    "df.loc[df.vertical == \"COURIER\", \"vertical\"] = \"QUIERO\""
   ]
  },
  {
   "cell_type": "markdown",
   "id": "1645597d-3a51-45db-bccb-f9fbb2ad1765",
   "metadata": {},
   "source": [
    "### A.a Customer Delivery Time. How long the customer waited for the order"
   ]
  },
  {
   "cell_type": "markdown",
   "id": "a1de2f3d-69e1-49c5-a92b-dacfdebcc32c",
   "metadata": {},
   "source": [
    "Let's assume that the time that the customer waited for their order was the time elapsed between the moment he ordered and the moment the order was delivered"
   ]
  },
  {
   "cell_type": "code",
   "execution_count": 27,
   "id": "88640514-7761-4e96-aa05-f7fafe46c648",
   "metadata": {},
   "outputs": [
    {
     "data": {
      "text/plain": [
       "DeliveredStatus    2389\n",
       "CanceledStatus       82\n",
       "Name: final_status, dtype: int64"
      ]
     },
     "execution_count": 27,
     "metadata": {},
     "output_type": "execute_result"
    }
   ],
   "source": [
    "df.final_status.value_counts(dropna=False)"
   ]
  },
  {
   "cell_type": "code",
   "execution_count": 68,
   "id": "698fc5c1-0b50-462d-8b06-007a2e7bb543",
   "metadata": {},
   "outputs": [],
   "source": [
    "df_delivered = df[df.final_status == \"DeliveredStatus\"]"
   ]
  },
  {
   "cell_type": "code",
   "execution_count": 69,
   "id": "38d39994-60e2-481b-bfec-4f566dd6415c",
   "metadata": {},
   "outputs": [
    {
     "name": "stderr",
     "output_type": "stream",
     "text": [
      "/var/folders/hs/t_th7f6j6tsb1fg2d7_808y80000gn/T/ipykernel_67886/1226807702.py:1: SettingWithCopyWarning: \n",
      "A value is trying to be set on a copy of a slice from a DataFrame.\n",
      "Try using .loc[row_indexer,col_indexer] = value instead\n",
      "\n",
      "See the caveats in the documentation: https://pandas.pydata.org/pandas-docs/stable/user_guide/indexing.html#returning-a-view-versus-a-copy\n",
      "  df_delivered['Waiting_Time'] = df_delivered.termination_time - df_delivered.activation_time_local\n"
     ]
    }
   ],
   "source": [
    "df_delivered[\"Waiting_Time\"] = (\n",
    "    df_delivered.termination_time - df_delivered.activation_time_local\n",
    ")"
   ]
  },
  {
   "cell_type": "code",
   "execution_count": 70,
   "id": "5b199440-927e-4628-ae26-ab6bf28e63f2",
   "metadata": {},
   "outputs": [
    {
     "data": {
      "text/plain": [
       "transport\n",
       "BICYCLE     0 days 00:37:12.304312449\n",
       "CAR         0 days 00:41:18.310945273\n",
       "MOTORBIKE   0 days 00:36:49.726912928\n",
       "Name: Waiting_Time, dtype: timedelta64[ns]"
      ]
     },
     "execution_count": 70,
     "metadata": {},
     "output_type": "execute_result"
    }
   ],
   "source": [
    "df_delivered.groupby(\"transport\")[\"Waiting_Time\"].mean()"
   ]
  },
  {
   "cell_type": "code",
   "execution_count": 71,
   "id": "db7d05c6-27cf-44b7-b884-7f9e8b267303",
   "metadata": {},
   "outputs": [
    {
     "name": "stderr",
     "output_type": "stream",
     "text": [
      "/var/folders/hs/t_th7f6j6tsb1fg2d7_808y80000gn/T/ipykernel_67886/1263668351.py:1: SettingWithCopyWarning: \n",
      "A value is trying to be set on a copy of a slice from a DataFrame.\n",
      "Try using .loc[row_indexer,col_indexer] = value instead\n",
      "\n",
      "See the caveats in the documentation: https://pandas.pydata.org/pandas-docs/stable/user_guide/indexing.html#returning-a-view-versus-a-copy\n",
      "  df_delivered['hours'] = df_delivered['Waiting_Time'].dt.components['hours']\n",
      "/var/folders/hs/t_th7f6j6tsb1fg2d7_808y80000gn/T/ipykernel_67886/1263668351.py:2: SettingWithCopyWarning: \n",
      "A value is trying to be set on a copy of a slice from a DataFrame.\n",
      "Try using .loc[row_indexer,col_indexer] = value instead\n",
      "\n",
      "See the caveats in the documentation: https://pandas.pydata.org/pandas-docs/stable/user_guide/indexing.html#returning-a-view-versus-a-copy\n",
      "  df_delivered['minutes'] = df_delivered['Waiting_Time'].dt.components['minutes']\n",
      "/var/folders/hs/t_th7f6j6tsb1fg2d7_808y80000gn/T/ipykernel_67886/1263668351.py:3: SettingWithCopyWarning: \n",
      "A value is trying to be set on a copy of a slice from a DataFrame.\n",
      "Try using .loc[row_indexer,col_indexer] = value instead\n",
      "\n",
      "See the caveats in the documentation: https://pandas.pydata.org/pandas-docs/stable/user_guide/indexing.html#returning-a-view-versus-a-copy\n",
      "  df_delivered['seconds'] = df_delivered['Waiting_Time'].dt.components['seconds']\n",
      "/var/folders/hs/t_th7f6j6tsb1fg2d7_808y80000gn/T/ipykernel_67886/1263668351.py:5: SettingWithCopyWarning: \n",
      "A value is trying to be set on a copy of a slice from a DataFrame.\n",
      "Try using .loc[row_indexer,col_indexer] = value instead\n",
      "\n",
      "See the caveats in the documentation: https://pandas.pydata.org/pandas-docs/stable/user_guide/indexing.html#returning-a-view-versus-a-copy\n",
      "  df_delivered['Waiting_Time'] = pd.to_datetime(df_delivered[['hours', 'minutes', 'seconds']].astype(str).agg(':'.join, axis=1), format='%H:%M:%S')\n",
      "/var/folders/hs/t_th7f6j6tsb1fg2d7_808y80000gn/T/ipykernel_67886/1263668351.py:6: SettingWithCopyWarning: \n",
      "A value is trying to be set on a copy of a slice from a DataFrame\n",
      "\n",
      "See the caveats in the documentation: https://pandas.pydata.org/pandas-docs/stable/user_guide/indexing.html#returning-a-view-versus-a-copy\n",
      "  df_delivered.drop(columns=['hours', 'minutes', 'seconds'], inplace=True)\n"
     ]
    },
    {
     "data": {
      "text/html": [
       "<div>\n",
       "<style scoped>\n",
       "    .dataframe tbody tr th:only-of-type {\n",
       "        vertical-align: middle;\n",
       "    }\n",
       "\n",
       "    .dataframe tbody tr th {\n",
       "        vertical-align: top;\n",
       "    }\n",
       "\n",
       "    .dataframe thead th {\n",
       "        text-align: right;\n",
       "    }\n",
       "</style>\n",
       "<table border=\"1\" class=\"dataframe\">\n",
       "  <thead>\n",
       "    <tr style=\"text-align: right;\">\n",
       "      <th></th>\n",
       "      <th>id</th>\n",
       "      <th>final_status</th>\n",
       "      <th>store_address_id</th>\n",
       "      <th>customer_id</th>\n",
       "      <th>courier_id</th>\n",
       "      <th>vertical</th>\n",
       "      <th>is_food</th>\n",
       "      <th>transport</th>\n",
       "      <th>number_of_assignments</th>\n",
       "      <th>total_real_distance</th>\n",
       "      <th>activation_time_local</th>\n",
       "      <th>last_courier_assigned_time</th>\n",
       "      <th>courier_started_order_local</th>\n",
       "      <th>courier_enters_pickup_time_local</th>\n",
       "      <th>pickup_time_local</th>\n",
       "      <th>courier_enters_delivery_point_time_local</th>\n",
       "      <th>termination_time</th>\n",
       "      <th>Total Time</th>\n",
       "      <th>Waiting_Time</th>\n",
       "    </tr>\n",
       "  </thead>\n",
       "  <tbody>\n",
       "    <tr>\n",
       "      <th>0</th>\n",
       "      <td>53134335</td>\n",
       "      <td>DeliveredStatus</td>\n",
       "      <td>85260.0</td>\n",
       "      <td>18579597</td>\n",
       "      <td>20153483</td>\n",
       "      <td>WALL - Partner</td>\n",
       "      <td>True</td>\n",
       "      <td>BICYCLE</td>\n",
       "      <td>1</td>\n",
       "      <td>6.029</td>\n",
       "      <td>2019-07-13 13:04:44</td>\n",
       "      <td>2019-07-13 13:05:32</td>\n",
       "      <td>2019-07-13 13:06:49</td>\n",
       "      <td>2019-07-13 13:09:13</td>\n",
       "      <td>2019-07-13 13:28:45</td>\n",
       "      <td>2019-07-13 13:46:58</td>\n",
       "      <td>2019-07-13 13:59:49</td>\n",
       "      <td>55</td>\n",
       "      <td>1900-01-01 00:55:05</td>\n",
       "    </tr>\n",
       "    <tr>\n",
       "      <th>1</th>\n",
       "      <td>53009545</td>\n",
       "      <td>DeliveredStatus</td>\n",
       "      <td>23517.0</td>\n",
       "      <td>11871195</td>\n",
       "      <td>20153483</td>\n",
       "      <td>WALL - Partner</td>\n",
       "      <td>True</td>\n",
       "      <td>BICYCLE</td>\n",
       "      <td>1</td>\n",
       "      <td>3.998</td>\n",
       "      <td>2019-07-12 20:06:29</td>\n",
       "      <td>2019-07-12 20:10:42</td>\n",
       "      <td>2019-07-12 20:11:02</td>\n",
       "      <td>2019-07-12 20:16:05</td>\n",
       "      <td>2019-07-12 20:23:07</td>\n",
       "      <td>2019-07-12 20:37:53</td>\n",
       "      <td>2019-07-12 20:43:01</td>\n",
       "      <td>36</td>\n",
       "      <td>1900-01-01 00:36:32</td>\n",
       "    </tr>\n",
       "    <tr>\n",
       "      <th>2</th>\n",
       "      <td>53129297</td>\n",
       "      <td>DeliveredStatus</td>\n",
       "      <td>18300.0</td>\n",
       "      <td>1053786</td>\n",
       "      <td>20153483</td>\n",
       "      <td>WALL - Partner</td>\n",
       "      <td>True</td>\n",
       "      <td>BICYCLE</td>\n",
       "      <td>1</td>\n",
       "      <td>5.309</td>\n",
       "      <td>2019-07-13 12:14:58</td>\n",
       "      <td>2019-07-13 12:15:44</td>\n",
       "      <td>2019-07-13 12:23:40</td>\n",
       "      <td>2019-07-13 12:45:16</td>\n",
       "      <td>2019-07-13 12:50:09</td>\n",
       "      <td>2019-07-13 12:55:16</td>\n",
       "      <td>2019-07-13 12:59:23</td>\n",
       "      <td>44</td>\n",
       "      <td>1900-01-01 00:44:25</td>\n",
       "    </tr>\n",
       "    <tr>\n",
       "      <th>4</th>\n",
       "      <td>53002671</td>\n",
       "      <td>DeliveredStatus</td>\n",
       "      <td>15912.0</td>\n",
       "      <td>16549489</td>\n",
       "      <td>20153483</td>\n",
       "      <td>WALL - Partner</td>\n",
       "      <td>True</td>\n",
       "      <td>BICYCLE</td>\n",
       "      <td>1</td>\n",
       "      <td>3.442</td>\n",
       "      <td>2019-07-12 19:40:13</td>\n",
       "      <td>2019-07-12 19:41:14</td>\n",
       "      <td>2019-07-12 19:42:34</td>\n",
       "      <td>2019-07-12 19:46:28</td>\n",
       "      <td>2019-07-12 19:56:59</td>\n",
       "      <td>2019-07-12 20:07:08</td>\n",
       "      <td>2019-07-12 20:10:37</td>\n",
       "      <td>30</td>\n",
       "      <td>1900-01-01 00:30:24</td>\n",
       "    </tr>\n",
       "    <tr>\n",
       "      <th>5</th>\n",
       "      <td>53210586</td>\n",
       "      <td>DeliveredStatus</td>\n",
       "      <td>23518.0</td>\n",
       "      <td>16210716</td>\n",
       "      <td>20153483</td>\n",
       "      <td>WALL - Partner</td>\n",
       "      <td>True</td>\n",
       "      <td>BICYCLE</td>\n",
       "      <td>1</td>\n",
       "      <td>3.103</td>\n",
       "      <td>2019-07-13 20:34:10</td>\n",
       "      <td>2019-07-13 20:35:04</td>\n",
       "      <td>2019-07-13 20:36:19</td>\n",
       "      <td>2019-07-13 20:45:05</td>\n",
       "      <td>2019-07-13 20:49:33</td>\n",
       "      <td>2019-07-13 21:06:04</td>\n",
       "      <td>2019-07-13 21:08:21</td>\n",
       "      <td>34</td>\n",
       "      <td>1900-01-01 00:34:11</td>\n",
       "    </tr>\n",
       "  </tbody>\n",
       "</table>\n",
       "</div>"
      ],
      "text/plain": [
       "         id     final_status  store_address_id  customer_id  courier_id  \\\n",
       "0  53134335  DeliveredStatus           85260.0     18579597    20153483   \n",
       "1  53009545  DeliveredStatus           23517.0     11871195    20153483   \n",
       "2  53129297  DeliveredStatus           18300.0      1053786    20153483   \n",
       "4  53002671  DeliveredStatus           15912.0     16549489    20153483   \n",
       "5  53210586  DeliveredStatus           23518.0     16210716    20153483   \n",
       "\n",
       "         vertical  is_food transport  number_of_assignments  \\\n",
       "0  WALL - Partner     True   BICYCLE                      1   \n",
       "1  WALL - Partner     True   BICYCLE                      1   \n",
       "2  WALL - Partner     True   BICYCLE                      1   \n",
       "4  WALL - Partner     True   BICYCLE                      1   \n",
       "5  WALL - Partner     True   BICYCLE                      1   \n",
       "\n",
       "   total_real_distance activation_time_local last_courier_assigned_time  \\\n",
       "0                6.029   2019-07-13 13:04:44        2019-07-13 13:05:32   \n",
       "1                3.998   2019-07-12 20:06:29        2019-07-12 20:10:42   \n",
       "2                5.309   2019-07-13 12:14:58        2019-07-13 12:15:44   \n",
       "4                3.442   2019-07-12 19:40:13        2019-07-12 19:41:14   \n",
       "5                3.103   2019-07-13 20:34:10        2019-07-13 20:35:04   \n",
       "\n",
       "  courier_started_order_local courier_enters_pickup_time_local  \\\n",
       "0         2019-07-13 13:06:49              2019-07-13 13:09:13   \n",
       "1         2019-07-12 20:11:02              2019-07-12 20:16:05   \n",
       "2         2019-07-13 12:23:40              2019-07-13 12:45:16   \n",
       "4         2019-07-12 19:42:34              2019-07-12 19:46:28   \n",
       "5         2019-07-13 20:36:19              2019-07-13 20:45:05   \n",
       "\n",
       "    pickup_time_local courier_enters_delivery_point_time_local  \\\n",
       "0 2019-07-13 13:28:45                      2019-07-13 13:46:58   \n",
       "1 2019-07-12 20:23:07                      2019-07-12 20:37:53   \n",
       "2 2019-07-13 12:50:09                      2019-07-13 12:55:16   \n",
       "4 2019-07-12 19:56:59                      2019-07-12 20:07:08   \n",
       "5 2019-07-13 20:49:33                      2019-07-13 21:06:04   \n",
       "\n",
       "     termination_time  Total Time        Waiting_Time  \n",
       "0 2019-07-13 13:59:49          55 1900-01-01 00:55:05  \n",
       "1 2019-07-12 20:43:01          36 1900-01-01 00:36:32  \n",
       "2 2019-07-13 12:59:23          44 1900-01-01 00:44:25  \n",
       "4 2019-07-12 20:10:37          30 1900-01-01 00:30:24  \n",
       "5 2019-07-13 21:08:21          34 1900-01-01 00:34:11  "
      ]
     },
     "execution_count": 71,
     "metadata": {},
     "output_type": "execute_result"
    }
   ],
   "source": [
    "df_delivered[\"hours\"] = df_delivered[\"Waiting_Time\"].dt.components[\"hours\"]\n",
    "df_delivered[\"minutes\"] = df_delivered[\"Waiting_Time\"].dt.components[\"minutes\"]\n",
    "df_delivered[\"seconds\"] = df_delivered[\"Waiting_Time\"].dt.components[\"seconds\"]\n",
    "\n",
    "df_delivered[\"Waiting_Time\"] = pd.to_datetime(\n",
    "    df_delivered[[\"hours\", \"minutes\", \"seconds\"]].astype(str).agg(\":\".join, axis=1),\n",
    "    format=\"%H:%M:%S\",\n",
    ")\n",
    "df_delivered.drop(columns=[\"hours\", \"minutes\", \"seconds\"], inplace=True)\n",
    "df_delivered.head()"
   ]
  },
  {
   "cell_type": "code",
   "execution_count": 78,
   "id": "8a6a5ed6-16f7-41cd-9f9f-65dc2c37584f",
   "metadata": {},
   "outputs": [
    {
     "name": "stdout",
     "output_type": "stream",
     "text": [
      "transport\n",
      "BICYCLE     1900-01-01 00:37:12.304312320\n",
      "CAR         1900-01-01 00:41:18.310945280\n",
      "MOTORBIKE   1900-01-01 00:36:49.726913024\n",
      "Name: Waiting_Time, dtype: datetime64[ns]\n",
      "=====================================\n",
      "vertical\n",
      "QUIERO              1900-01-01 00:36:33.800000000\n",
      "WALL - NonPartner   1900-01-01 00:42:32.347826176\n",
      "WALL - Partner      1900-01-01 00:37:44.354646272\n",
      "Name: Waiting_Time, dtype: datetime64[ns]\n",
      "=====================================\n",
      "is_food\n",
      "False   1900-01-01 00:35:47.044775936\n",
      "True    1900-01-01 00:37:49.984496128\n",
      "Name: Waiting_Time, dtype: datetime64[ns]\n",
      "=====================================\n"
     ]
    }
   ],
   "source": [
    "print(df_delivered.groupby(\"transport\")[\"Waiting_Time\"].mean())\n",
    "print(\"=====================================\")\n",
    "print(df_delivered.groupby(\"vertical\")[\"Waiting_Time\"].mean())\n",
    "print(\"=====================================\")\n",
    "print(df_delivered.groupby(\"is_food\")[\"Waiting_Time\"].mean())\n",
    "print(\"=====================================\")"
   ]
  },
  {
   "cell_type": "code",
   "execution_count": 79,
   "id": "e0ff988b-bb5f-41a4-b1b0-47e57ac09fc5",
   "metadata": {},
   "outputs": [
    {
     "data": {
      "text/html": [
       "<div>\n",
       "<style scoped>\n",
       "    .dataframe tbody tr th:only-of-type {\n",
       "        vertical-align: middle;\n",
       "    }\n",
       "\n",
       "    .dataframe tbody tr th {\n",
       "        vertical-align: top;\n",
       "    }\n",
       "\n",
       "    .dataframe thead th {\n",
       "        text-align: right;\n",
       "    }\n",
       "</style>\n",
       "<table border=\"1\" class=\"dataframe\">\n",
       "  <thead>\n",
       "    <tr style=\"text-align: right;\">\n",
       "      <th></th>\n",
       "      <th></th>\n",
       "      <th></th>\n",
       "      <th>Waiting_Time</th>\n",
       "    </tr>\n",
       "    <tr>\n",
       "      <th>transport</th>\n",
       "      <th>vertical</th>\n",
       "      <th>is_food</th>\n",
       "      <th></th>\n",
       "    </tr>\n",
       "  </thead>\n",
       "  <tbody>\n",
       "    <tr>\n",
       "      <th rowspan=\"5\" valign=\"top\">BICYCLE</th>\n",
       "      <th>QUIERO</th>\n",
       "      <th>False</th>\n",
       "      <td>1900-01-01 00:38:14.999999744</td>\n",
       "    </tr>\n",
       "    <tr>\n",
       "      <th rowspan=\"2\" valign=\"top\">WALL - NonPartner</th>\n",
       "      <th>False</th>\n",
       "      <td>1900-01-01 00:35:58.249999872</td>\n",
       "    </tr>\n",
       "    <tr>\n",
       "      <th>True</th>\n",
       "      <td>1900-01-01 00:42:12.285714432</td>\n",
       "    </tr>\n",
       "    <tr>\n",
       "      <th rowspan=\"2\" valign=\"top\">WALL - Partner</th>\n",
       "      <th>False</th>\n",
       "      <td>1900-01-01 00:31:28.894736640</td>\n",
       "    </tr>\n",
       "    <tr>\n",
       "      <th>True</th>\n",
       "      <td>1900-01-01 00:37:15.797478912</td>\n",
       "    </tr>\n",
       "    <tr>\n",
       "      <th rowspan=\"5\" valign=\"top\">CAR</th>\n",
       "      <th rowspan=\"2\" valign=\"top\">QUIERO</th>\n",
       "      <th>False</th>\n",
       "      <td>1900-01-01 00:53:12.000000000</td>\n",
       "    </tr>\n",
       "    <tr>\n",
       "      <th>True</th>\n",
       "      <td>1900-01-01 00:33:43.000000000</td>\n",
       "    </tr>\n",
       "    <tr>\n",
       "      <th>WALL - NonPartner</th>\n",
       "      <th>False</th>\n",
       "      <td>1900-01-01 00:57:15.666666752</td>\n",
       "    </tr>\n",
       "    <tr>\n",
       "      <th rowspan=\"2\" valign=\"top\">WALL - Partner</th>\n",
       "      <th>False</th>\n",
       "      <td>1900-01-01 00:42:14.249999872</td>\n",
       "    </tr>\n",
       "    <tr>\n",
       "      <th>True</th>\n",
       "      <td>1900-01-01 00:41:09.776081408</td>\n",
       "    </tr>\n",
       "    <tr>\n",
       "      <th rowspan=\"6\" valign=\"top\">MOTORBIKE</th>\n",
       "      <th rowspan=\"2\" valign=\"top\">QUIERO</th>\n",
       "      <th>False</th>\n",
       "      <td>1900-01-01 00:29:09.375000064</td>\n",
       "    </tr>\n",
       "    <tr>\n",
       "      <th>True</th>\n",
       "      <td>1900-01-01 01:06:51.000000000</td>\n",
       "    </tr>\n",
       "    <tr>\n",
       "      <th rowspan=\"2\" valign=\"top\">WALL - NonPartner</th>\n",
       "      <th>False</th>\n",
       "      <td>1900-01-01 00:49:20.500000000</td>\n",
       "    </tr>\n",
       "    <tr>\n",
       "      <th>True</th>\n",
       "      <td>1900-01-01 00:33:59.200000000</td>\n",
       "    </tr>\n",
       "    <tr>\n",
       "      <th rowspan=\"2\" valign=\"top\">WALL - Partner</th>\n",
       "      <th>False</th>\n",
       "      <td>1900-01-01 00:32:26.800000000</td>\n",
       "    </tr>\n",
       "    <tr>\n",
       "      <th>True</th>\n",
       "      <td>1900-01-01 00:36:54.795862016</td>\n",
       "    </tr>\n",
       "  </tbody>\n",
       "</table>\n",
       "</div>"
      ],
      "text/plain": [
       "                                                     Waiting_Time\n",
       "transport vertical          is_food                              \n",
       "BICYCLE   QUIERO            False   1900-01-01 00:38:14.999999744\n",
       "          WALL - NonPartner False   1900-01-01 00:35:58.249999872\n",
       "                            True    1900-01-01 00:42:12.285714432\n",
       "          WALL - Partner    False   1900-01-01 00:31:28.894736640\n",
       "                            True    1900-01-01 00:37:15.797478912\n",
       "CAR       QUIERO            False   1900-01-01 00:53:12.000000000\n",
       "                            True    1900-01-01 00:33:43.000000000\n",
       "          WALL - NonPartner False   1900-01-01 00:57:15.666666752\n",
       "          WALL - Partner    False   1900-01-01 00:42:14.249999872\n",
       "                            True    1900-01-01 00:41:09.776081408\n",
       "MOTORBIKE QUIERO            False   1900-01-01 00:29:09.375000064\n",
       "                            True    1900-01-01 01:06:51.000000000\n",
       "          WALL - NonPartner False   1900-01-01 00:49:20.500000000\n",
       "                            True    1900-01-01 00:33:59.200000000\n",
       "          WALL - Partner    False   1900-01-01 00:32:26.800000000\n",
       "                            True    1900-01-01 00:36:54.795862016"
      ]
     },
     "execution_count": 79,
     "metadata": {},
     "output_type": "execute_result"
    }
   ],
   "source": [
    "df_delivered.groupby([\"transport\", \"vertical\", \"is_food\"])[\n",
    "    \"Waiting_Time\"\n",
    "].mean().to_frame()"
   ]
  },
  {
   "cell_type": "code",
   "execution_count": 218,
   "id": "1a59486d-417b-4790-be96-e2a017d81940",
   "metadata": {},
   "outputs": [
    {
     "name": "stdout",
     "output_type": "stream",
     "text": [
      "Average Waiting Time of all orders:  1900-01-01 00:37:46.536625920\n"
     ]
    }
   ],
   "source": [
    "print(\"Average Waiting Time of all orders: \", df_delivered.Waiting_Time.mean())"
   ]
  },
  {
   "cell_type": "markdown",
   "id": "3bfe0a6c-8a42-4b9b-bf43-02868a6a9651",
   "metadata": {},
   "source": [
    "### A.b Delivery Distance. Total distance traveled by the couriers"
   ]
  },
  {
   "cell_type": "code",
   "execution_count": 84,
   "id": "08590400-f323-4bab-8b6b-b0bc8caa7798",
   "metadata": {},
   "outputs": [
    {
     "name": "stdout",
     "output_type": "stream",
     "text": [
      "Total amount of km traveled by couriers:  12468.43\n"
     ]
    }
   ],
   "source": [
    "print(\n",
    "    \"Total amount of km traveled by couriers: \", df.total_real_distance.sum().round(2)\n",
    ")"
   ]
  },
  {
   "cell_type": "code",
   "execution_count": 86,
   "id": "1dd2234d-21ad-4335-acaf-f60308091ff2",
   "metadata": {},
   "outputs": [
    {
     "data": {
      "text/html": [
       "<div>\n",
       "<style scoped>\n",
       "    .dataframe tbody tr th:only-of-type {\n",
       "        vertical-align: middle;\n",
       "    }\n",
       "\n",
       "    .dataframe tbody tr th {\n",
       "        vertical-align: top;\n",
       "    }\n",
       "\n",
       "    .dataframe thead th {\n",
       "        text-align: right;\n",
       "    }\n",
       "</style>\n",
       "<table border=\"1\" class=\"dataframe\">\n",
       "  <thead>\n",
       "    <tr style=\"text-align: right;\">\n",
       "      <th></th>\n",
       "      <th>total_real_distance</th>\n",
       "    </tr>\n",
       "    <tr>\n",
       "      <th>transport</th>\n",
       "      <th></th>\n",
       "    </tr>\n",
       "  </thead>\n",
       "  <tbody>\n",
       "    <tr>\n",
       "      <th>BICYCLE</th>\n",
       "      <td>5210.62</td>\n",
       "    </tr>\n",
       "    <tr>\n",
       "      <th>CAR</th>\n",
       "      <td>2626.43</td>\n",
       "    </tr>\n",
       "    <tr>\n",
       "      <th>MOTORBIKE</th>\n",
       "      <td>4631.38</td>\n",
       "    </tr>\n",
       "  </tbody>\n",
       "</table>\n",
       "</div>"
      ],
      "text/plain": [
       "           total_real_distance\n",
       "transport                     \n",
       "BICYCLE                5210.62\n",
       "CAR                    2626.43\n",
       "MOTORBIKE              4631.38"
      ]
     },
     "execution_count": 86,
     "metadata": {},
     "output_type": "execute_result"
    }
   ],
   "source": [
    "df.groupby([\"transport\"])[\"total_real_distance\"].sum().round(2).to_frame()"
   ]
  },
  {
   "cell_type": "markdown",
   "id": "beff1695-c324-4691-a5d7-8c7e425939be",
   "metadata": {},
   "source": [
    "### A.c Reassignment Probability (whenever we need to assign an order to another courier after the first assignment it counts as a reassignment)."
   ]
  },
  {
   "cell_type": "code",
   "execution_count": null,
   "id": "470fe713-ccc0-41ab-9443-9072cb6e191e",
   "metadata": {},
   "outputs": [],
   "source": [
    "df[df.number_of_assignments]"
   ]
  },
  {
   "cell_type": "code",
   "execution_count": 87,
   "id": "f740a01f-5de9-4d96-98c3-d04c3d6ea7c8",
   "metadata": {},
   "outputs": [
    {
     "data": {
      "text/plain": [
       "1    2129\n",
       "2     274\n",
       "3      56\n",
       "4       9\n",
       "6       2\n",
       "5       1\n",
       "Name: number_of_assignments, dtype: int64"
      ]
     },
     "execution_count": 87,
     "metadata": {},
     "output_type": "execute_result"
    }
   ],
   "source": [
    "df.number_of_assignments.value_counts(dropna=False)"
   ]
  },
  {
   "cell_type": "code",
   "execution_count": 99,
   "id": "e40685fb-6e5f-49c1-a259-d451a8fe91d2",
   "metadata": {},
   "outputs": [
    {
     "name": "stdout",
     "output_type": "stream",
     "text": [
      "Probability of reassignment:  13.840550384459732\n"
     ]
    }
   ],
   "source": [
    "print(\n",
    "    \"Probability of reassignment: \",\n",
    "    (len(df[df.number_of_assignments > 1]) / len(df)) * 100,\n",
    ")"
   ]
  },
  {
   "cell_type": "markdown",
   "id": "c6b9e11b-cdec-4857-98dc-555ba28863ad",
   "metadata": {},
   "source": [
    "### B. Regarding reassignments can you see any trends / correlation between this metric and any of the dimensions in the dataset?"
   ]
  },
  {
   "cell_type": "code",
   "execution_count": 101,
   "id": "2e260933-86e9-4941-98f9-c414cd3e6750",
   "metadata": {},
   "outputs": [
    {
     "name": "stderr",
     "output_type": "stream",
     "text": [
      "/var/folders/hs/t_th7f6j6tsb1fg2d7_808y80000gn/T/ipykernel_67886/3498833453.py:1: FutureWarning: The default value of numeric_only in DataFrame.corr is deprecated. In a future version, it will default to False. Select only valid columns or specify the value of numeric_only to silence this warning.\n",
      "  df.corr()['number_of_assignments']\n"
     ]
    },
    {
     "data": {
      "text/plain": [
       "id                       0.021143\n",
       "store_address_id         0.103935\n",
       "customer_id             -0.016838\n",
       "courier_id               0.000910\n",
       "is_food                 -0.024531\n",
       "number_of_assignments    1.000000\n",
       "total_real_distance      0.089987\n",
       "Total Time               0.021101\n",
       "Name: number_of_assignments, dtype: float64"
      ]
     },
     "execution_count": 101,
     "metadata": {},
     "output_type": "execute_result"
    }
   ],
   "source": [
    "df.corr()[\"number_of_assignments\"]"
   ]
  },
  {
   "cell_type": "markdown",
   "id": "030bd2d0-287c-4c3a-9a6c-197666568ee0",
   "metadata": {},
   "source": [
    "Encoding categorical variables in order to extract correlation metrics with the number_of_assignments"
   ]
  },
  {
   "cell_type": "code",
   "execution_count": 121,
   "id": "be3e6bf9-f6e1-456a-84b1-229aa93e8b85",
   "metadata": {},
   "outputs": [
    {
     "data": {
      "text/plain": [
       "final_status                                        object\n",
       "store_address_id                                   float64\n",
       "customer_id                                          int64\n",
       "courier_id                                           int64\n",
       "vertical                                            object\n",
       "is_food                                               bool\n",
       "transport                                           object\n",
       "number_of_assignments                                int64\n",
       "total_real_distance                                float64\n",
       "activation_time_local                       datetime64[ns]\n",
       "last_courier_assigned_time                  datetime64[ns]\n",
       "courier_started_order_local                 datetime64[ns]\n",
       "courier_enters_pickup_time_local            datetime64[ns]\n",
       "pickup_time_local                           datetime64[ns]\n",
       "courier_enters_delivery_point_time_local    datetime64[ns]\n",
       "termination_time                            datetime64[ns]\n",
       "Total Time                                           int64\n",
       "dtype: object"
      ]
     },
     "execution_count": 121,
     "metadata": {},
     "output_type": "execute_result"
    }
   ],
   "source": [
    "df.dtypes"
   ]
  },
  {
   "cell_type": "code",
   "execution_count": 164,
   "id": "f98c0410-dd8f-4043-971f-2d6be313af93",
   "metadata": {},
   "outputs": [],
   "source": [
    "df[\"reassigned\"] = 0\n",
    "df.loc[df.number_of_assignments > 1, \"reassigned\"] = 1"
   ]
  },
  {
   "cell_type": "code",
   "execution_count": 167,
   "id": "a0cc4292-ed7a-4efd-8d8d-2851b50d21f2",
   "metadata": {},
   "outputs": [
    {
     "data": {
      "text/html": [
       "<div>\n",
       "<style scoped>\n",
       "    .dataframe tbody tr th:only-of-type {\n",
       "        vertical-align: middle;\n",
       "    }\n",
       "\n",
       "    .dataframe tbody tr th {\n",
       "        vertical-align: top;\n",
       "    }\n",
       "\n",
       "    .dataframe thead th {\n",
       "        text-align: right;\n",
       "    }\n",
       "</style>\n",
       "<table border=\"1\" class=\"dataframe\">\n",
       "  <thead>\n",
       "    <tr style=\"text-align: right;\">\n",
       "      <th></th>\n",
       "      <th>store_address_id</th>\n",
       "      <th>customer_id</th>\n",
       "      <th>courier_id</th>\n",
       "      <th>number_of_assignments</th>\n",
       "      <th>total_real_distance</th>\n",
       "      <th>activation_time_local</th>\n",
       "      <th>last_courier_assigned_time</th>\n",
       "      <th>courier_started_order_local</th>\n",
       "      <th>courier_enters_pickup_time_local</th>\n",
       "      <th>pickup_time_local</th>\n",
       "      <th>courier_enters_delivery_point_time_local</th>\n",
       "      <th>termination_time</th>\n",
       "      <th>Total Time</th>\n",
       "      <th>reassigned</th>\n",
       "      <th>final_status_DeliveredStatus</th>\n",
       "      <th>vertical_WALL - NonPartner</th>\n",
       "      <th>vertical_WALL - Partner</th>\n",
       "      <th>is_food_True</th>\n",
       "      <th>transport_CAR</th>\n",
       "      <th>transport_MOTORBIKE</th>\n",
       "    </tr>\n",
       "    <tr>\n",
       "      <th>id</th>\n",
       "      <th></th>\n",
       "      <th></th>\n",
       "      <th></th>\n",
       "      <th></th>\n",
       "      <th></th>\n",
       "      <th></th>\n",
       "      <th></th>\n",
       "      <th></th>\n",
       "      <th></th>\n",
       "      <th></th>\n",
       "      <th></th>\n",
       "      <th></th>\n",
       "      <th></th>\n",
       "      <th></th>\n",
       "      <th></th>\n",
       "      <th></th>\n",
       "      <th></th>\n",
       "      <th></th>\n",
       "      <th></th>\n",
       "      <th></th>\n",
       "    </tr>\n",
       "  </thead>\n",
       "  <tbody>\n",
       "    <tr>\n",
       "      <th>53134335</th>\n",
       "      <td>85260.0</td>\n",
       "      <td>18579597</td>\n",
       "      <td>20153483</td>\n",
       "      <td>1</td>\n",
       "      <td>6.029</td>\n",
       "      <td>2019-07-13 13:04:44</td>\n",
       "      <td>2019-07-13 13:05:32</td>\n",
       "      <td>2019-07-13 13:06:49</td>\n",
       "      <td>2019-07-13 13:09:13</td>\n",
       "      <td>2019-07-13 13:28:45</td>\n",
       "      <td>2019-07-13 13:46:58</td>\n",
       "      <td>2019-07-13 13:59:49</td>\n",
       "      <td>55</td>\n",
       "      <td>0</td>\n",
       "      <td>1</td>\n",
       "      <td>0</td>\n",
       "      <td>1</td>\n",
       "      <td>1</td>\n",
       "      <td>0</td>\n",
       "      <td>0</td>\n",
       "    </tr>\n",
       "    <tr>\n",
       "      <th>53009545</th>\n",
       "      <td>23517.0</td>\n",
       "      <td>11871195</td>\n",
       "      <td>20153483</td>\n",
       "      <td>1</td>\n",
       "      <td>3.998</td>\n",
       "      <td>2019-07-12 20:06:29</td>\n",
       "      <td>2019-07-12 20:10:42</td>\n",
       "      <td>2019-07-12 20:11:02</td>\n",
       "      <td>2019-07-12 20:16:05</td>\n",
       "      <td>2019-07-12 20:23:07</td>\n",
       "      <td>2019-07-12 20:37:53</td>\n",
       "      <td>2019-07-12 20:43:01</td>\n",
       "      <td>36</td>\n",
       "      <td>0</td>\n",
       "      <td>1</td>\n",
       "      <td>0</td>\n",
       "      <td>1</td>\n",
       "      <td>1</td>\n",
       "      <td>0</td>\n",
       "      <td>0</td>\n",
       "    </tr>\n",
       "    <tr>\n",
       "      <th>53129297</th>\n",
       "      <td>18300.0</td>\n",
       "      <td>1053786</td>\n",
       "      <td>20153483</td>\n",
       "      <td>1</td>\n",
       "      <td>5.309</td>\n",
       "      <td>2019-07-13 12:14:58</td>\n",
       "      <td>2019-07-13 12:15:44</td>\n",
       "      <td>2019-07-13 12:23:40</td>\n",
       "      <td>2019-07-13 12:45:16</td>\n",
       "      <td>2019-07-13 12:50:09</td>\n",
       "      <td>2019-07-13 12:55:16</td>\n",
       "      <td>2019-07-13 12:59:23</td>\n",
       "      <td>44</td>\n",
       "      <td>0</td>\n",
       "      <td>1</td>\n",
       "      <td>0</td>\n",
       "      <td>1</td>\n",
       "      <td>1</td>\n",
       "      <td>0</td>\n",
       "      <td>0</td>\n",
       "    </tr>\n",
       "    <tr>\n",
       "      <th>53235752</th>\n",
       "      <td>85260.0</td>\n",
       "      <td>20466508</td>\n",
       "      <td>20153483</td>\n",
       "      <td>1</td>\n",
       "      <td>6.429</td>\n",
       "      <td>2019-07-13 21:55:58</td>\n",
       "      <td>2019-07-13 22:24:58</td>\n",
       "      <td>2019-07-13 22:24:58</td>\n",
       "      <td>NaT</td>\n",
       "      <td>NaT</td>\n",
       "      <td>NaT</td>\n",
       "      <td>2019-07-13 22:25:15</td>\n",
       "      <td>29</td>\n",
       "      <td>0</td>\n",
       "      <td>0</td>\n",
       "      <td>0</td>\n",
       "      <td>1</td>\n",
       "      <td>1</td>\n",
       "      <td>0</td>\n",
       "      <td>0</td>\n",
       "    </tr>\n",
       "    <tr>\n",
       "      <th>53002671</th>\n",
       "      <td>15912.0</td>\n",
       "      <td>16549489</td>\n",
       "      <td>20153483</td>\n",
       "      <td>1</td>\n",
       "      <td>3.442</td>\n",
       "      <td>2019-07-12 19:40:13</td>\n",
       "      <td>2019-07-12 19:41:14</td>\n",
       "      <td>2019-07-12 19:42:34</td>\n",
       "      <td>2019-07-12 19:46:28</td>\n",
       "      <td>2019-07-12 19:56:59</td>\n",
       "      <td>2019-07-12 20:07:08</td>\n",
       "      <td>2019-07-12 20:10:37</td>\n",
       "      <td>30</td>\n",
       "      <td>0</td>\n",
       "      <td>1</td>\n",
       "      <td>0</td>\n",
       "      <td>1</td>\n",
       "      <td>1</td>\n",
       "      <td>0</td>\n",
       "      <td>0</td>\n",
       "    </tr>\n",
       "    <tr>\n",
       "      <th>...</th>\n",
       "      <td>...</td>\n",
       "      <td>...</td>\n",
       "      <td>...</td>\n",
       "      <td>...</td>\n",
       "      <td>...</td>\n",
       "      <td>...</td>\n",
       "      <td>...</td>\n",
       "      <td>...</td>\n",
       "      <td>...</td>\n",
       "      <td>...</td>\n",
       "      <td>...</td>\n",
       "      <td>...</td>\n",
       "      <td>...</td>\n",
       "      <td>...</td>\n",
       "      <td>...</td>\n",
       "      <td>...</td>\n",
       "      <td>...</td>\n",
       "      <td>...</td>\n",
       "      <td>...</td>\n",
       "      <td>...</td>\n",
       "    </tr>\n",
       "    <tr>\n",
       "      <th>52684871</th>\n",
       "      <td>88704.0</td>\n",
       "      <td>15546013</td>\n",
       "      <td>16298640</td>\n",
       "      <td>1</td>\n",
       "      <td>3.948</td>\n",
       "      <td>2019-07-10 20:33:35</td>\n",
       "      <td>2019-07-10 21:14:10</td>\n",
       "      <td>2019-07-10 21:18:50</td>\n",
       "      <td>NaT</td>\n",
       "      <td>NaT</td>\n",
       "      <td>NaT</td>\n",
       "      <td>2019-07-10 22:01:08</td>\n",
       "      <td>27</td>\n",
       "      <td>0</td>\n",
       "      <td>0</td>\n",
       "      <td>0</td>\n",
       "      <td>1</td>\n",
       "      <td>1</td>\n",
       "      <td>0</td>\n",
       "      <td>0</td>\n",
       "    </tr>\n",
       "    <tr>\n",
       "      <th>52527417</th>\n",
       "      <td>85260.0</td>\n",
       "      <td>14227823</td>\n",
       "      <td>16298640</td>\n",
       "      <td>1</td>\n",
       "      <td>3.795</td>\n",
       "      <td>2019-07-09 20:26:49</td>\n",
       "      <td>2019-07-09 20:37:28</td>\n",
       "      <td>2019-07-09 20:39:11</td>\n",
       "      <td>2019-07-09 20:42:21</td>\n",
       "      <td>2019-07-09 20:48:09</td>\n",
       "      <td>2019-07-09 20:57:38</td>\n",
       "      <td>2019-07-09 21:00:52</td>\n",
       "      <td>34</td>\n",
       "      <td>0</td>\n",
       "      <td>1</td>\n",
       "      <td>0</td>\n",
       "      <td>1</td>\n",
       "      <td>1</td>\n",
       "      <td>0</td>\n",
       "      <td>0</td>\n",
       "    </tr>\n",
       "    <tr>\n",
       "      <th>52876432</th>\n",
       "      <td>15910.0</td>\n",
       "      <td>13101274</td>\n",
       "      <td>16298640</td>\n",
       "      <td>1</td>\n",
       "      <td>2.963</td>\n",
       "      <td>2019-07-11 22:37:14</td>\n",
       "      <td>2019-07-11 22:38:05</td>\n",
       "      <td>2019-07-11 22:39:04</td>\n",
       "      <td>2019-07-11 22:37:29</td>\n",
       "      <td>2019-07-11 22:58:53</td>\n",
       "      <td>2019-07-11 23:03:58</td>\n",
       "      <td>2019-07-11 23:08:44</td>\n",
       "      <td>31</td>\n",
       "      <td>0</td>\n",
       "      <td>1</td>\n",
       "      <td>0</td>\n",
       "      <td>1</td>\n",
       "      <td>1</td>\n",
       "      <td>0</td>\n",
       "      <td>0</td>\n",
       "    </tr>\n",
       "    <tr>\n",
       "      <th>52977137</th>\n",
       "      <td>NaN</td>\n",
       "      <td>2837755</td>\n",
       "      <td>16298640</td>\n",
       "      <td>1</td>\n",
       "      <td>2.625</td>\n",
       "      <td>2019-07-12 17:24:07</td>\n",
       "      <td>2019-07-12 17:33:04</td>\n",
       "      <td>2019-07-12 17:33:23</td>\n",
       "      <td>2019-07-12 17:38:02</td>\n",
       "      <td>2019-07-12 17:43:37</td>\n",
       "      <td>2019-07-12 17:47:38</td>\n",
       "      <td>2019-07-12 17:51:10</td>\n",
       "      <td>27</td>\n",
       "      <td>0</td>\n",
       "      <td>1</td>\n",
       "      <td>0</td>\n",
       "      <td>0</td>\n",
       "      <td>0</td>\n",
       "      <td>0</td>\n",
       "      <td>0</td>\n",
       "    </tr>\n",
       "    <tr>\n",
       "      <th>52533924</th>\n",
       "      <td>31798.0</td>\n",
       "      <td>16666579</td>\n",
       "      <td>16298640</td>\n",
       "      <td>1</td>\n",
       "      <td>5.526</td>\n",
       "      <td>2019-07-09 20:52:27</td>\n",
       "      <td>2019-07-09 21:01:54</td>\n",
       "      <td>2019-07-09 21:02:31</td>\n",
       "      <td>2019-07-09 20:52:36</td>\n",
       "      <td>2019-07-09 21:24:32</td>\n",
       "      <td>2019-07-09 21:36:59</td>\n",
       "      <td>2019-07-09 21:40:54</td>\n",
       "      <td>48</td>\n",
       "      <td>0</td>\n",
       "      <td>1</td>\n",
       "      <td>0</td>\n",
       "      <td>1</td>\n",
       "      <td>1</td>\n",
       "      <td>0</td>\n",
       "      <td>0</td>\n",
       "    </tr>\n",
       "  </tbody>\n",
       "</table>\n",
       "<p>2471 rows × 20 columns</p>\n",
       "</div>"
      ],
      "text/plain": [
       "          store_address_id  customer_id  courier_id  number_of_assignments  \\\n",
       "id                                                                           \n",
       "53134335           85260.0     18579597    20153483                      1   \n",
       "53009545           23517.0     11871195    20153483                      1   \n",
       "53129297           18300.0      1053786    20153483                      1   \n",
       "53235752           85260.0     20466508    20153483                      1   \n",
       "53002671           15912.0     16549489    20153483                      1   \n",
       "...                    ...          ...         ...                    ...   \n",
       "52684871           88704.0     15546013    16298640                      1   \n",
       "52527417           85260.0     14227823    16298640                      1   \n",
       "52876432           15910.0     13101274    16298640                      1   \n",
       "52977137               NaN      2837755    16298640                      1   \n",
       "52533924           31798.0     16666579    16298640                      1   \n",
       "\n",
       "          total_real_distance activation_time_local  \\\n",
       "id                                                    \n",
       "53134335                6.029   2019-07-13 13:04:44   \n",
       "53009545                3.998   2019-07-12 20:06:29   \n",
       "53129297                5.309   2019-07-13 12:14:58   \n",
       "53235752                6.429   2019-07-13 21:55:58   \n",
       "53002671                3.442   2019-07-12 19:40:13   \n",
       "...                       ...                   ...   \n",
       "52684871                3.948   2019-07-10 20:33:35   \n",
       "52527417                3.795   2019-07-09 20:26:49   \n",
       "52876432                2.963   2019-07-11 22:37:14   \n",
       "52977137                2.625   2019-07-12 17:24:07   \n",
       "52533924                5.526   2019-07-09 20:52:27   \n",
       "\n",
       "         last_courier_assigned_time courier_started_order_local  \\\n",
       "id                                                                \n",
       "53134335        2019-07-13 13:05:32         2019-07-13 13:06:49   \n",
       "53009545        2019-07-12 20:10:42         2019-07-12 20:11:02   \n",
       "53129297        2019-07-13 12:15:44         2019-07-13 12:23:40   \n",
       "53235752        2019-07-13 22:24:58         2019-07-13 22:24:58   \n",
       "53002671        2019-07-12 19:41:14         2019-07-12 19:42:34   \n",
       "...                             ...                         ...   \n",
       "52684871        2019-07-10 21:14:10         2019-07-10 21:18:50   \n",
       "52527417        2019-07-09 20:37:28         2019-07-09 20:39:11   \n",
       "52876432        2019-07-11 22:38:05         2019-07-11 22:39:04   \n",
       "52977137        2019-07-12 17:33:04         2019-07-12 17:33:23   \n",
       "52533924        2019-07-09 21:01:54         2019-07-09 21:02:31   \n",
       "\n",
       "         courier_enters_pickup_time_local   pickup_time_local  \\\n",
       "id                                                              \n",
       "53134335              2019-07-13 13:09:13 2019-07-13 13:28:45   \n",
       "53009545              2019-07-12 20:16:05 2019-07-12 20:23:07   \n",
       "53129297              2019-07-13 12:45:16 2019-07-13 12:50:09   \n",
       "53235752                              NaT                 NaT   \n",
       "53002671              2019-07-12 19:46:28 2019-07-12 19:56:59   \n",
       "...                                   ...                 ...   \n",
       "52684871                              NaT                 NaT   \n",
       "52527417              2019-07-09 20:42:21 2019-07-09 20:48:09   \n",
       "52876432              2019-07-11 22:37:29 2019-07-11 22:58:53   \n",
       "52977137              2019-07-12 17:38:02 2019-07-12 17:43:37   \n",
       "52533924              2019-07-09 20:52:36 2019-07-09 21:24:32   \n",
       "\n",
       "         courier_enters_delivery_point_time_local    termination_time  \\\n",
       "id                                                                      \n",
       "53134335                      2019-07-13 13:46:58 2019-07-13 13:59:49   \n",
       "53009545                      2019-07-12 20:37:53 2019-07-12 20:43:01   \n",
       "53129297                      2019-07-13 12:55:16 2019-07-13 12:59:23   \n",
       "53235752                                      NaT 2019-07-13 22:25:15   \n",
       "53002671                      2019-07-12 20:07:08 2019-07-12 20:10:37   \n",
       "...                                           ...                 ...   \n",
       "52684871                                      NaT 2019-07-10 22:01:08   \n",
       "52527417                      2019-07-09 20:57:38 2019-07-09 21:00:52   \n",
       "52876432                      2019-07-11 23:03:58 2019-07-11 23:08:44   \n",
       "52977137                      2019-07-12 17:47:38 2019-07-12 17:51:10   \n",
       "52533924                      2019-07-09 21:36:59 2019-07-09 21:40:54   \n",
       "\n",
       "          Total Time  reassigned  final_status_DeliveredStatus  \\\n",
       "id                                                               \n",
       "53134335          55           0                             1   \n",
       "53009545          36           0                             1   \n",
       "53129297          44           0                             1   \n",
       "53235752          29           0                             0   \n",
       "53002671          30           0                             1   \n",
       "...              ...         ...                           ...   \n",
       "52684871          27           0                             0   \n",
       "52527417          34           0                             1   \n",
       "52876432          31           0                             1   \n",
       "52977137          27           0                             1   \n",
       "52533924          48           0                             1   \n",
       "\n",
       "          vertical_WALL - NonPartner  vertical_WALL - Partner  is_food_True  \\\n",
       "id                                                                            \n",
       "53134335                           0                        1             1   \n",
       "53009545                           0                        1             1   \n",
       "53129297                           0                        1             1   \n",
       "53235752                           0                        1             1   \n",
       "53002671                           0                        1             1   \n",
       "...                              ...                      ...           ...   \n",
       "52684871                           0                        1             1   \n",
       "52527417                           0                        1             1   \n",
       "52876432                           0                        1             1   \n",
       "52977137                           0                        0             0   \n",
       "52533924                           0                        1             1   \n",
       "\n",
       "          transport_CAR  transport_MOTORBIKE  \n",
       "id                                            \n",
       "53134335              0                    0  \n",
       "53009545              0                    0  \n",
       "53129297              0                    0  \n",
       "53235752              0                    0  \n",
       "53002671              0                    0  \n",
       "...                 ...                  ...  \n",
       "52684871              0                    0  \n",
       "52527417              0                    0  \n",
       "52876432              0                    0  \n",
       "52977137              0                    0  \n",
       "52533924              0                    0  \n",
       "\n",
       "[2471 rows x 20 columns]"
      ]
     },
     "execution_count": 167,
     "metadata": {},
     "output_type": "execute_result"
    }
   ],
   "source": [
    "categorical_columns = [\"final_status\", \"vertical\", \"is_food\", \"transport\"]\n",
    "\n",
    "df_encoded = pd.get_dummies(df, columns=categorical_columns, drop_first=True)\n",
    "\n",
    "df_encoded"
   ]
  },
  {
   "cell_type": "code",
   "execution_count": 125,
   "id": "ec3b4284-671b-4bda-ad49-e9d555bbcd68",
   "metadata": {},
   "outputs": [
    {
     "name": "stderr",
     "output_type": "stream",
     "text": [
      "/var/folders/hs/t_th7f6j6tsb1fg2d7_808y80000gn/T/ipykernel_67886/3956983334.py:1: FutureWarning: The default value of numeric_only in DataFrame.corr is deprecated. In a future version, it will default to False. Select only valid columns or specify the value of numeric_only to silence this warning.\n",
      "  df_encoded.corr()['number_of_assignments']\n"
     ]
    },
    {
     "data": {
      "text/plain": [
       "store_address_id                0.103935\n",
       "customer_id                    -0.016838\n",
       "courier_id                      0.000910\n",
       "number_of_assignments           1.000000\n",
       "total_real_distance             0.089987\n",
       "Total Time                      0.021101\n",
       "final_status_DeliveredStatus   -0.111982\n",
       "vertical_WALL - NonPartner      0.023358\n",
       "vertical_WALL - Partner        -0.036265\n",
       "is_food_True                   -0.024531\n",
       "transport_CAR                   0.051181\n",
       "transport_MOTORBIKE            -0.005470\n",
       "Name: number_of_assignments, dtype: float64"
      ]
     },
     "execution_count": 125,
     "metadata": {},
     "output_type": "execute_result"
    }
   ],
   "source": [
    "df_encoded.corr()[\"number_of_assignments\"]"
   ]
  },
  {
   "cell_type": "code",
   "execution_count": 168,
   "id": "baf13087-1da2-4f1f-945f-f6e4e3e6b6d4",
   "metadata": {},
   "outputs": [
    {
     "name": "stderr",
     "output_type": "stream",
     "text": [
      "/var/folders/hs/t_th7f6j6tsb1fg2d7_808y80000gn/T/ipykernel_67886/888121260.py:1: FutureWarning: The default value of numeric_only in DataFrame.corr is deprecated. In a future version, it will default to False. Select only valid columns or specify the value of numeric_only to silence this warning.\n",
      "  df_encoded.corr()['reassigned']\n"
     ]
    },
    {
     "data": {
      "text/plain": [
       "store_address_id                0.102247\n",
       "customer_id                    -0.017201\n",
       "courier_id                     -0.010988\n",
       "number_of_assignments           0.896742\n",
       "total_real_distance             0.081339\n",
       "Total Time                      0.040476\n",
       "reassigned                      1.000000\n",
       "final_status_DeliveredStatus   -0.082770\n",
       "vertical_WALL - NonPartner      0.043377\n",
       "vertical_WALL - Partner        -0.043365\n",
       "is_food_True                   -0.033666\n",
       "transport_CAR                   0.044972\n",
       "transport_MOTORBIKE             0.000614\n",
       "Name: reassigned, dtype: float64"
      ]
     },
     "execution_count": 168,
     "metadata": {},
     "output_type": "execute_result"
    }
   ],
   "source": [
    "df_encoded.corr()[\"reassigned\"]"
   ]
  },
  {
   "cell_type": "code",
   "execution_count": 171,
   "id": "f61ba287-9a95-4873-ab9c-fc8e5d5ce065",
   "metadata": {},
   "outputs": [
    {
     "name": "stderr",
     "output_type": "stream",
     "text": [
      "/var/folders/hs/t_th7f6j6tsb1fg2d7_808y80000gn/T/ipykernel_67886/1095114820.py:2: FutureWarning: The default value of numeric_only in DataFrame.corr is deprecated. In a future version, it will default to False. Select only valid columns or specify the value of numeric_only to silence this warning.\n",
      "  df_corr = df_encoded.corr(method = 'pearson')\n"
     ]
    },
    {
     "data": {
      "text/plain": [
       "<Axes: >"
      ]
     },
     "execution_count": 171,
     "metadata": {},
     "output_type": "execute_result"
    },
    {
     "data": {
      "image/png": "[encoded data removed]",
      "text/plain": [
       "<Figure size 1200x1000 with 2 Axes>"
      ]
     },
     "metadata": {},
     "output_type": "display_data"
    }
   ],
   "source": [
    "sns.set(font_scale=1)\n",
    "df_corr = df_encoded.corr(method=\"pearson\")\n",
    "figure = plt.figure(figsize=(12, 10))\n",
    "sns.heatmap(df_corr, cmap=\"YlGn\", annot=True, fmt=\".1g\")"
   ]
  },
  {
   "cell_type": "markdown",
   "id": "eecc31e9-3060-4815-8860-eb2543b9e768",
   "metadata": {},
   "source": [
    "#### Final Status vs Reassigned"
   ]
  },
  {
   "cell_type": "code",
   "execution_count": 184,
   "id": "02026a72-617a-404e-87d2-c43dbea5a5cf",
   "metadata": {},
   "outputs": [
    {
     "name": "stdout",
     "output_type": "stream",
     "text": [
      "Cramér's V: 0.0794986765799978\n"
     ]
    }
   ],
   "source": [
    "# Create a contingency table\n",
    "contingency_table = pd.crosstab(df[\"reassigned\"], df[\"final_status\"])\n",
    "\n",
    "# Calculate Cramér's V\n",
    "chi2, _, _, _ = chi2_contingency(contingency_table)\n",
    "n = df.shape[0]\n",
    "V = np.sqrt(chi2 / (n * (min(contingency_table.shape) - 1)))\n",
    "\n",
    "print(f\"Cramér's V: {V}\")"
   ]
  },
  {
   "cell_type": "code",
   "execution_count": 173,
   "id": "062a1c3d-dfb2-4fea-9c7e-ef3cfa8501b6",
   "metadata": {},
   "outputs": [
    {
     "data": {
      "text/html": [
       "<div>\n",
       "<style scoped>\n",
       "    .dataframe tbody tr th:only-of-type {\n",
       "        vertical-align: middle;\n",
       "    }\n",
       "\n",
       "    .dataframe tbody tr th {\n",
       "        vertical-align: top;\n",
       "    }\n",
       "\n",
       "    .dataframe thead th {\n",
       "        text-align: right;\n",
       "    }\n",
       "</style>\n",
       "<table border=\"1\" class=\"dataframe\">\n",
       "  <thead>\n",
       "    <tr style=\"text-align: right;\">\n",
       "      <th></th>\n",
       "      <th></th>\n",
       "      <th>0</th>\n",
       "    </tr>\n",
       "    <tr>\n",
       "      <th>final_status</th>\n",
       "      <th>reassigned</th>\n",
       "      <th></th>\n",
       "    </tr>\n",
       "  </thead>\n",
       "  <tbody>\n",
       "    <tr>\n",
       "      <th rowspan=\"2\" valign=\"top\">CanceledStatus</th>\n",
       "      <th>0</th>\n",
       "      <td>58</td>\n",
       "    </tr>\n",
       "    <tr>\n",
       "      <th>1</th>\n",
       "      <td>24</td>\n",
       "    </tr>\n",
       "    <tr>\n",
       "      <th rowspan=\"2\" valign=\"top\">DeliveredStatus</th>\n",
       "      <th>0</th>\n",
       "      <td>2071</td>\n",
       "    </tr>\n",
       "    <tr>\n",
       "      <th>1</th>\n",
       "      <td>318</td>\n",
       "    </tr>\n",
       "  </tbody>\n",
       "</table>\n",
       "</div>"
      ],
      "text/plain": [
       "                               0\n",
       "final_status    reassigned      \n",
       "CanceledStatus  0             58\n",
       "                1             24\n",
       "DeliveredStatus 0           2071\n",
       "                1            318"
      ]
     },
     "execution_count": 173,
     "metadata": {},
     "output_type": "execute_result"
    }
   ],
   "source": [
    "df[[\"final_status\", \"reassigned\"]].value_counts().to_frame().sort_index()"
   ]
  },
  {
   "cell_type": "markdown",
   "id": "2da4c2c2-05e9-41c1-a8d3-8069a11736d7",
   "metadata": {},
   "source": [
    "The percentage of reassigned orders is higher in orders that have been canceled (30%), when compared with orders that have been delivered (13.3%). However both the Pearson correlation coeficient and Cramer's V show that the correlation between both variables is very low, being close to 0 (0.08)."
   ]
  },
  {
   "cell_type": "code",
   "execution_count": 192,
   "id": "89878231-0c8f-49d1-9777-5d7d642b551f",
   "metadata": {},
   "outputs": [
    {
     "data": {
      "image/png": "[encoded data removed]",
      "text/plain": [
       "<Figure size 640x480 with 1 Axes>"
      ]
     },
     "metadata": {},
     "output_type": "display_data"
    }
   ],
   "source": [
    "sns.countplot(data=df, x=\"final_status\", hue=\"reassigned\")\n",
    "plt.title(\"Reassigned Distribution by Final Status\")\n",
    "plt.xlabel(\"Final Status\")\n",
    "plt.ylabel(\"Count\")\n",
    "plt.xticks(rotation=45)\n",
    "plt.show()"
   ]
  },
  {
   "cell_type": "markdown",
   "id": "320fb2ca-8756-4e97-a916-36d054433c6e",
   "metadata": {},
   "source": [
    "#### Reassigned vs Total Distance per Order"
   ]
  },
  {
   "cell_type": "code",
   "execution_count": 315,
   "id": "acd16345-919c-4b7a-a4fb-7ad63016e445",
   "metadata": {},
   "outputs": [
    {
     "data": {
      "image/png": "[encoded data removed]",
      "text/plain": [
       "<Figure size 640x480 with 1 Axes>"
      ]
     },
     "metadata": {},
     "output_type": "display_data"
    }
   ],
   "source": [
    "sns.barplot(\n",
    "    x=\"number_of_assignments\",\n",
    "    y=\"total_real_distance\",\n",
    "    data=df_encoded,\n",
    "    color=\"red\",\n",
    "    estimator=\"mean\",\n",
    "    saturation=0.3,\n",
    "    errorbar=(\"pi\", 50),\n",
    "    capsize=0.4,\n",
    "    errcolor=\".2\",\n",
    "    linewidth=2,\n",
    "    errwidth=2,\n",
    "    edgecolor=\".2\",\n",
    ")\n",
    "plt.title(\"Average Distance per Number of Couriers Assigned\")\n",
    "plt.xlabel(\"Number of Assignments\")\n",
    "plt.ylabel(\"Average Distance\")\n",
    "plt.show()"
   ]
  },
  {
   "cell_type": "code",
   "execution_count": 318,
   "id": "7302ff9b-4758-4b09-8b25-60d6e65b9c4a",
   "metadata": {},
   "outputs": [
    {
     "data": {
      "image/png": "[encoded data removed]",
      "text/plain": [
       "<Figure size 640x480 with 1 Axes>"
      ]
     },
     "metadata": {},
     "output_type": "display_data"
    }
   ],
   "source": [
    "sns.barplot(\n",
    "    x=\"reassigned\",\n",
    "    y=\"total_real_distance\",\n",
    "    data=df_encoded,\n",
    "    color=\"orange\",\n",
    "    estimator=\"mean\",\n",
    "    saturation=1.5,\n",
    "    errorbar=(\"pi\", 50),\n",
    "    capsize=0.4,\n",
    "    errcolor=\".2\",\n",
    "    linewidth=2,\n",
    "    errwidth=2,\n",
    "    edgecolor=\".2\",\n",
    ")\n",
    "plt.title(\"Average Distance of Reassigned vs Non Reassigned Orders\")\n",
    "plt.xlabel(\"Reassigned Orders\")\n",
    "plt.ylabel(\"Average Distance\")\n",
    "plt.show()"
   ]
  },
  {
   "cell_type": "markdown",
   "id": "72880b9d-d66d-4d6d-b47b-37a8092933cd",
   "metadata": {},
   "source": [
    "According to this plot we can see that until the 4th courier assignment there is a positive correlation between the distance and the number of couriers assigned to an order. Meaning that as total distance increases, so does the number of couriers being assigned.\n",
    "\n",
    "This might indicate that when the delivery is further than 5km, couriers tend to refuse such order and other courier has to be assigned to the job."
   ]
  },
  {
   "cell_type": "markdown",
   "id": "92769a73-5bd0-4b6f-95bd-bf7c5acbc3d3",
   "metadata": {},
   "source": [
    "#### Reassigned vs Store_ID"
   ]
  },
  {
   "cell_type": "markdown",
   "id": "3e2a3721-fd1c-46dc-9845-ca22b0ec61b0",
   "metadata": {},
   "source": [
    "Let's check if any of the stores in our dataset might have any influence in an order being reassigned to another courier. In order to do so I will take the median of the occurences of the stores in the dataset and only consider the stores that have appeared more than that median (all the others will be bundled into 'Other')."
   ]
  },
  {
   "cell_type": "code",
   "execution_count": 319,
   "id": "d9bb8e56-2507-4bc5-badf-c9e0d06118de",
   "metadata": {},
   "outputs": [
    {
     "data": {
      "image/png": "[encoded data removed]",
      "text/plain": [
       "<Figure size 1000x600 with 1 Axes>"
      ]
     },
     "metadata": {},
     "output_type": "display_data"
    }
   ],
   "source": [
    "# Count the number of instances of each store ID\n",
    "store_counts = df.store_address_id.value_counts()\n",
    "\n",
    "# Create a list of store IDs that appear more than the median of occurences\n",
    "stores_to_keep = store_counts[\n",
    "    store_counts > df.store_address_id.value_counts().mean()\n",
    "].index\n",
    "\n",
    "# Group stores with fewer than the median cases into 'Other'\n",
    "df[\"store_address_id_grouped\"] = df[\"store_address_id\"].apply(\n",
    "    lambda x: x if x in stores_to_keep else \"Other\"\n",
    ")\n",
    "\n",
    "# create visualization for each category of country and hue of Reassigned\n",
    "\n",
    "plt.figure(figsize=(10, 6))\n",
    "sns.countplot(data=df, x=\"store_address_id_grouped\", hue=\"reassigned\")\n",
    "plt.title(\"Store Distribution by Reassigned Status\")\n",
    "plt.xlabel(\"Store ID\")\n",
    "plt.ylabel(\"Count\")\n",
    "plt.xticks(rotation=45)\n",
    "plt.show()"
   ]
  },
  {
   "cell_type": "markdown",
   "id": "97cbbf67-ca1c-48f8-9995-2713bf55f213",
   "metadata": {},
   "source": [
    "It does not appear that store ID has any correlation with the probability of an order being reassigned."
   ]
  },
  {
   "cell_type": "code",
   "execution_count": 309,
   "id": "d1d5e222-2f08-48a0-aac7-325b32923691",
   "metadata": {},
   "outputs": [
    {
     "data": {
      "image/png": "[encoded data removed]",
      "text/plain": [
       "<Figure size 640x480 with 1 Axes>"
      ]
     },
     "metadata": {},
     "output_type": "display_data"
    }
   ],
   "source": [
    "sns.barplot(\n",
    "    x=\"reassigned\",\n",
    "    y=\"Total Time\",\n",
    "    data=df,\n",
    "    color=\"pink\",\n",
    "    estimator=\"median\",\n",
    "    saturation=1,\n",
    "    errorbar=(\"pi\", 30),\n",
    "    capsize=0.4,\n",
    "    errcolor=\".2\",\n",
    "    linewidth=2,\n",
    "    errwidth=2,\n",
    "    edgecolor=\".2\",\n",
    ")\n",
    "plt.title(\"Median Waiting Time of Reassigned vs Non Reassigned Orders\")\n",
    "plt.xlabel(\"Reassigned\")\n",
    "plt.ylabel(\"Median Waiting Time\")\n",
    "plt.show()"
   ]
  },
  {
   "cell_type": "markdown",
   "id": "e112b40d-cade-49fa-8c40-677a017e49ec",
   "metadata": {},
   "source": [
    "The Pearson's correlation coeficient between total waiting and reassigned orders is low (0.04), however we can observe that the median waiting time for customers is higher when a order gets reassigned."
   ]
  },
  {
   "cell_type": "markdown",
   "id": "a338c13e-a449-4ee2-a46d-3000b84b20d8",
   "metadata": {},
   "source": [
    "### C. Once the courier arrives at the store, the time until the order is picked-up (waiting_time_at_pickup), can present high variation. With the data given, present an analysis showcasing this. Can you identify any clear trends in terms of worst offenders? What could be the possible causes when the courier is waiting for a very long time before picking up the order?"
   ]
  },
  {
   "cell_type": "markdown",
   "id": "ac44a2b2-3d03-4b6a-872d-3c19c08de5e3",
   "metadata": {},
   "source": [
    "Pickup Time - Courier Enters Pickup"
   ]
  },
  {
   "cell_type": "code",
   "execution_count": 322,
   "id": "bdc28c7d-ddcf-4585-af6b-38a18b3df4e8",
   "metadata": {},
   "outputs": [
    {
     "name": "stdout",
     "output_type": "stream",
     "text": [
      "Range of Waiting Time:  0 days 01:29:04\n",
      "Standard Deviation of Waiting Time:  0 days 00:12:47.908542153\n",
      "Interquartile Range of Waiting Time:  0 days 00:11:39\n",
      "Median of Waiting Time:  0 days 00:11:41\n",
      "Average of Waiting Time:  0 days 00:15:14.658921161\n",
      "Skewness of Waiting Time:  2.0486170558858112\n"
     ]
    },
    {
     "data": {
      "image/png": "[encoded data removed]",
      "text/plain": [
       "<Figure size 640x480 with 1 Axes>"
      ]
     },
     "metadata": {},
     "output_type": "display_data"
    }
   ],
   "source": [
    "# Create a new variable that computes the time elapsed from the moment a courier enters the pickup point and he actually pick ups the order\n",
    "df[\"waiting_time_at_pickup\"] = (\n",
    "    df.pickup_time_local - df.courier_enters_pickup_time_local\n",
    ")\n",
    "\n",
    "# Compute the range of the waiting time feature\n",
    "range_waiting_time = df.waiting_time_at_pickup.max() - df.waiting_time_at_pickup.min()\n",
    "\n",
    "# Compute the standard deviation\n",
    "std_waiting_time = df.waiting_time_at_pickup.std()\n",
    "\n",
    "# Compute the IQR\n",
    "quartile_1 = df.waiting_time_at_pickup.quantile(0.25)\n",
    "quartile_3 = df.waiting_time_at_pickup.quantile(0.75)\n",
    "iqr = quartile_3 - quartile_1\n",
    "\n",
    "print(\"Range of Waiting Time: \", range_waiting_time)\n",
    "print(\"Standard Deviation of Waiting Time: \", std_waiting_time)\n",
    "print(\"Interquartile Range of Waiting Time: \", iqr)\n",
    "print(\"Median of Waiting Time: \", df.waiting_time_at_pickup.median())\n",
    "print(\"Average of Waiting Time: \", df.waiting_time_at_pickup.mean())\n",
    "\n",
    "df[\"waiting_time_seconds\"] = df.waiting_time_at_pickup.dt.total_seconds()\n",
    "print(\"Skewness of Waiting Time: \", df.waiting_time_seconds.skew())\n",
    "\n",
    "sns.histplot(df.waiting_time_seconds, kde=True)\n",
    "plt.xlabel(\"Waiting Time in Seconds\")\n",
    "plt.ylabel(\"Frequency\")\n",
    "plt.title(\"Histogram of Waiting Time by Courier at Pickup\")\n",
    "plt.show()"
   ]
  },
  {
   "cell_type": "markdown",
   "id": "e1a80405-bce3-4f25-ac9a-70d292c82fe2",
   "metadata": {},
   "source": [
    "As shown by both the histogram and the skewness metric, the waiting time (measured in seconds) is right-skewed or positively skewed, meaning that the majority of waiting time by the courier at pickup is somewhat low, however there are few instances that are outliers and represent longer waiting times by the courier. \n",
    "\n",
    "In the next cells I will try to find some possible causes and patterns that might cause longer waiting times."
   ]
  },
  {
   "cell_type": "code",
   "execution_count": 233,
   "id": "7fe11b0a-e562-404d-9492-c8566e194a2e",
   "metadata": {},
   "outputs": [
    {
     "name": "stdout",
     "output_type": "stream",
     "text": [
      "Number of unique stores:  68\n",
      "Number of unique couriers:  83\n"
     ]
    }
   ],
   "source": [
    "print(\"Number of unique stores: \", len(df.store_address_id.unique()))\n",
    "print(\"Number of unique couriers: \", len(df.courier_id.unique()))"
   ]
  },
  {
   "cell_type": "markdown",
   "id": "a9688b10-f784-4d00-8622-362bc2c6be7e",
   "metadata": {},
   "source": [
    "#### Waiting Time at Pickup vs Store_ID\n",
    "\n",
    "Let's investigate if there are any worst offenders"
   ]
  },
  {
   "cell_type": "markdown",
   "id": "413e5c3b-cff7-4f5b-ab00-573a5499ebb2",
   "metadata": {},
   "source": [
    "First let's check the stores that have the highest average waiting time at pickup amongst the stores that have a number of orders higher than the average order amount per store of the dataset:"
   ]
  },
  {
   "cell_type": "code",
   "execution_count": 338,
   "id": "15358085-b757-4468-81d6-f2cabf2cb99e",
   "metadata": {},
   "outputs": [
    {
     "data": {
      "image/png": "[encoded data removed]",
      "text/plain": [
       "<Figure size 640x480 with 1 Axes>"
      ]
     },
     "metadata": {},
     "output_type": "display_data"
    }
   ],
   "source": [
    "# Count the number of instances of each store ID\n",
    "store_counts = df.store_address_id.value_counts()\n",
    "\n",
    "# Create a list of store IDs that appear more than the mean of occurences\n",
    "stores_to_keep = store_counts[\n",
    "    store_counts > df.store_address_id.value_counts().mean()\n",
    "].index\n",
    "\n",
    "# Group stores with fewer than the mean cases into 'Other'\n",
    "df[\"store_address_id_grouped\"] = df[\"store_address_id\"].apply(\n",
    "    lambda x: x if x in stores_to_keep else \"Other\"\n",
    ")\n",
    "\n",
    "order = (\n",
    "    df.groupby(\"store_address_id_grouped\")[\"waiting_time_seconds\"]\n",
    "    .mean()\n",
    "    .sort_values(ascending=False)\n",
    ")\n",
    "order = pd.DataFrame(data=order)\n",
    "order.reset_index(inplace=True)\n",
    "order = order[\"store_address_id_grouped\"]\n",
    "\n",
    "# Visualization\n",
    "sns.barplot(\n",
    "    x=\"store_address_id_grouped\",\n",
    "    y=\"waiting_time_seconds\",\n",
    "    data=df,\n",
    "    color=\"red\",\n",
    "    estimator=\"mean\",\n",
    "    saturation=0.3,\n",
    "    errorbar=(\"pi\", 50),\n",
    "    capsize=0.4,\n",
    "    errcolor=\".2\",\n",
    "    linewidth=2,\n",
    "    errwidth=2,\n",
    "    edgecolor=\".2\",\n",
    "    order=order,\n",
    ")\n",
    "plt.title(\"Average Waiting Time at Pickup per Store\")\n",
    "plt.xlabel(\"Store ID\")\n",
    "plt.ylabel(\"Average Waiting Time (seconds)\")\n",
    "plt.xticks(rotation=45)\n",
    "plt.show()"
   ]
  },
  {
   "cell_type": "code",
   "execution_count": 344,
   "id": "e34e6a01-a2c3-468d-9ec2-e79119efba68",
   "metadata": {},
   "outputs": [
    {
     "data": {
      "text/html": [
       "<div>\n",
       "<style scoped>\n",
       "    .dataframe tbody tr th:only-of-type {\n",
       "        vertical-align: middle;\n",
       "    }\n",
       "\n",
       "    .dataframe tbody tr th {\n",
       "        vertical-align: top;\n",
       "    }\n",
       "\n",
       "    .dataframe thead th {\n",
       "        text-align: right;\n",
       "    }\n",
       "</style>\n",
       "<table border=\"1\" class=\"dataframe\">\n",
       "  <thead>\n",
       "    <tr style=\"text-align: right;\">\n",
       "      <th></th>\n",
       "      <th>waiting_time_seconds</th>\n",
       "    </tr>\n",
       "    <tr>\n",
       "      <th>store_address_id_grouped</th>\n",
       "      <th></th>\n",
       "    </tr>\n",
       "  </thead>\n",
       "  <tbody>\n",
       "    <tr>\n",
       "      <th>15910</th>\n",
       "      <td>1224.903846</td>\n",
       "    </tr>\n",
       "    <tr>\n",
       "      <th>30640</th>\n",
       "      <td>1183.328859</td>\n",
       "    </tr>\n",
       "    <tr>\n",
       "      <th>18300</th>\n",
       "      <td>1146.215768</td>\n",
       "    </tr>\n",
       "    <tr>\n",
       "      <th>50845</th>\n",
       "      <td>1085.205882</td>\n",
       "    </tr>\n",
       "    <tr>\n",
       "      <th>15727</th>\n",
       "      <td>837.187500</td>\n",
       "    </tr>\n",
       "    <tr>\n",
       "      <th>85260</th>\n",
       "      <td>740.105691</td>\n",
       "    </tr>\n",
       "    <tr>\n",
       "      <th>15927</th>\n",
       "      <td>701.140845</td>\n",
       "    </tr>\n",
       "    <tr>\n",
       "      <th>Other</th>\n",
       "      <td>672.131627</td>\n",
       "    </tr>\n",
       "    <tr>\n",
       "      <th>18296</th>\n",
       "      <td>583.380952</td>\n",
       "    </tr>\n",
       "    <tr>\n",
       "      <th>23518</th>\n",
       "      <td>506.555556</td>\n",
       "    </tr>\n",
       "    <tr>\n",
       "      <th>90971</th>\n",
       "      <td>416.567568</td>\n",
       "    </tr>\n",
       "    <tr>\n",
       "      <th>48338</th>\n",
       "      <td>305.862745</td>\n",
       "    </tr>\n",
       "  </tbody>\n",
       "</table>\n",
       "</div>"
      ],
      "text/plain": [
       "                          waiting_time_seconds\n",
       "store_address_id_grouped                      \n",
       "15910                              1224.903846\n",
       "30640                              1183.328859\n",
       "18300                              1146.215768\n",
       "50845                              1085.205882\n",
       "15727                               837.187500\n",
       "85260                               740.105691\n",
       "15927                               701.140845\n",
       "Other                               672.131627\n",
       "18296                               583.380952\n",
       "23518                               506.555556\n",
       "90971                               416.567568\n",
       "48338                               305.862745"
      ]
     },
     "execution_count": 344,
     "metadata": {},
     "output_type": "execute_result"
    }
   ],
   "source": [
    "df.groupby(\"store_address_id_grouped\")[\"waiting_time_seconds\"].mean().sort_values(\n",
    "    ascending=False\n",
    ").to_frame()"
   ]
  },
  {
   "cell_type": "markdown",
   "id": "28cf87ff-c492-46d0-9cdc-7094132c0f6c",
   "metadata": {},
   "source": [
    "In order to plot more understandable graphs I grouped the store_address_id into a category called 'Other' if their number of orders where lower than the average amount of orders of all the stores present in the dataset.\n",
    "\n",
    "This allowed to reach both representations above. There are 4 stores with a waiting time at pickup for the courier higher than 16 minutes. Those are (by store_address_id): 15910, 30640, 18300, 50845."
   ]
  },
  {
   "cell_type": "markdown",
   "id": "010eebf2-01fd-4f2c-ac0c-58454e32d516",
   "metadata": {},
   "source": [
    "Now let's check the only the stores with a higher waiting pick time than the median of the entire dataset:"
   ]
  },
  {
   "cell_type": "code",
   "execution_count": 373,
   "id": "de132ad6-4c92-4002-bc40-d6f3a6ee3f36",
   "metadata": {},
   "outputs": [
    {
     "data": {
      "image/png": "[encoded data removed]",
      "text/plain": [
       "<Figure size 640x480 with 1 Axes>"
      ]
     },
     "metadata": {},
     "output_type": "display_data"
    }
   ],
   "source": [
    "# Create a list of store IDs that appear more than the median of occurences\n",
    "mean_quartile_3 = df[df.waiting_time_at_pickup > quartile_3].waiting_time_seconds.mean()\n",
    "stores_to_keep = df[df.waiting_time_seconds > mean_quartile_3].store_address_id.unique()\n",
    "\n",
    "# Group stores with fewer than the median cases into 'Other'\n",
    "df[\"store_address_id_grouped_v2\"] = df[\"store_address_id\"].apply(\n",
    "    lambda x: x if x in stores_to_keep else \"Other\"\n",
    ")\n",
    "\n",
    "order = (\n",
    "    df.groupby(\"store_address_id_grouped_v2\")[\"waiting_time_seconds\"]\n",
    "    .mean()\n",
    "    .sort_values(ascending=False)\n",
    ")\n",
    "order = pd.DataFrame(data=order)\n",
    "order.reset_index(inplace=True)\n",
    "order = order[\"store_address_id_grouped_v2\"]\n",
    "\n",
    "# Visualization\n",
    "sns.barplot(\n",
    "    x=\"store_address_id_grouped_v2\",\n",
    "    y=\"waiting_time_seconds\",\n",
    "    data=df,\n",
    "    color=\"blue\",\n",
    "    estimator=\"mean\",\n",
    "    saturation=0.3,\n",
    "    errorbar=(\"pi\", 50),\n",
    "    capsize=0.4,\n",
    "    errcolor=\".2\",\n",
    "    linewidth=2,\n",
    "    errwidth=2,\n",
    "    edgecolor=\".2\",\n",
    "    order=order,\n",
    ")\n",
    "plt.title(\"Average Waiting Time at Pickup per Store\")\n",
    "plt.xlabel(\"Store ID\")\n",
    "plt.ylabel(\"Average Waiting Time (seconds)\")\n",
    "plt.xticks(rotation=45)\n",
    "plt.show()"
   ]
  },
  {
   "cell_type": "code",
   "execution_count": 412,
   "id": "b566dfe0-839f-4764-965f-2dc567ebdac0",
   "metadata": {},
   "outputs": [
    {
     "data": {
      "text/html": [
       "<div>\n",
       "<style scoped>\n",
       "    .dataframe tbody tr th:only-of-type {\n",
       "        vertical-align: middle;\n",
       "    }\n",
       "\n",
       "    .dataframe tbody tr th {\n",
       "        vertical-align: top;\n",
       "    }\n",
       "\n",
       "    .dataframe thead th {\n",
       "        text-align: right;\n",
       "    }\n",
       "</style>\n",
       "<table border=\"1\" class=\"dataframe\">\n",
       "  <thead>\n",
       "    <tr style=\"text-align: right;\">\n",
       "      <th></th>\n",
       "      <th>waiting_time_seconds</th>\n",
       "      <th>number_of_orders</th>\n",
       "      <th>weighted_waiting_time</th>\n",
       "    </tr>\n",
       "    <tr>\n",
       "      <th>store_address_id_grouped_v2</th>\n",
       "      <th></th>\n",
       "      <th></th>\n",
       "      <th></th>\n",
       "    </tr>\n",
       "  </thead>\n",
       "  <tbody>\n",
       "    <tr>\n",
       "      <th>18300</th>\n",
       "      <td>1146.215768</td>\n",
       "      <td>977</td>\n",
       "      <td>1597.507568</td>\n",
       "    </tr>\n",
       "    <tr>\n",
       "      <th>Other</th>\n",
       "      <td>546.892027</td>\n",
       "      <td>633</td>\n",
       "      <td>493.841160</td>\n",
       "    </tr>\n",
       "    <tr>\n",
       "      <th>15727</th>\n",
       "      <td>837.187500</td>\n",
       "      <td>256</td>\n",
       "      <td>305.734665</td>\n",
       "    </tr>\n",
       "    <tr>\n",
       "      <th>30640</th>\n",
       "      <td>1183.328859</td>\n",
       "      <td>157</td>\n",
       "      <td>265.025151</td>\n",
       "    </tr>\n",
       "    <tr>\n",
       "      <th>85260</th>\n",
       "      <td>740.105691</td>\n",
       "      <td>124</td>\n",
       "      <td>130.917412</td>\n",
       "    </tr>\n",
       "    <tr>\n",
       "      <th>15910</th>\n",
       "      <td>1224.903846</td>\n",
       "      <td>52</td>\n",
       "      <td>90.863053</td>\n",
       "    </tr>\n",
       "    <tr>\n",
       "      <th>15927</th>\n",
       "      <td>701.140845</td>\n",
       "      <td>71</td>\n",
       "      <td>71.014265</td>\n",
       "    </tr>\n",
       "    <tr>\n",
       "      <th>50845</th>\n",
       "      <td>1085.205882</td>\n",
       "      <td>38</td>\n",
       "      <td>58.827138</td>\n",
       "    </tr>\n",
       "    <tr>\n",
       "      <th>19434</th>\n",
       "      <td>821.638889</td>\n",
       "      <td>36</td>\n",
       "      <td>42.195435</td>\n",
       "    </tr>\n",
       "    <tr>\n",
       "      <th>88585</th>\n",
       "      <td>966.277778</td>\n",
       "      <td>18</td>\n",
       "      <td>24.811698</td>\n",
       "    </tr>\n",
       "    <tr>\n",
       "      <th>82665</th>\n",
       "      <td>1252.153846</td>\n",
       "      <td>13</td>\n",
       "      <td>23.221113</td>\n",
       "    </tr>\n",
       "    <tr>\n",
       "      <th>51356</th>\n",
       "      <td>664.521739</td>\n",
       "      <td>24</td>\n",
       "      <td>22.751101</td>\n",
       "    </tr>\n",
       "    <tr>\n",
       "      <th>15912</th>\n",
       "      <td>543.681818</td>\n",
       "      <td>22</td>\n",
       "      <td>17.062767</td>\n",
       "    </tr>\n",
       "    <tr>\n",
       "      <th>23968</th>\n",
       "      <td>1080.666667</td>\n",
       "      <td>9</td>\n",
       "      <td>13.874465</td>\n",
       "    </tr>\n",
       "    <tr>\n",
       "      <th>88704</th>\n",
       "      <td>1112.857143</td>\n",
       "      <td>8</td>\n",
       "      <td>12.700224</td>\n",
       "    </tr>\n",
       "    <tr>\n",
       "      <th>15908</th>\n",
       "      <td>556.333333</td>\n",
       "      <td>15</td>\n",
       "      <td>11.904422</td>\n",
       "    </tr>\n",
       "    <tr>\n",
       "      <th>88691</th>\n",
       "      <td>1097.571429</td>\n",
       "      <td>7</td>\n",
       "      <td>10.960057</td>\n",
       "    </tr>\n",
       "    <tr>\n",
       "      <th>16698</th>\n",
       "      <td>1549.000000</td>\n",
       "      <td>4</td>\n",
       "      <td>8.838802</td>\n",
       "    </tr>\n",
       "    <tr>\n",
       "      <th>18034</th>\n",
       "      <td>1761.333333</td>\n",
       "      <td>3</td>\n",
       "      <td>7.537803</td>\n",
       "    </tr>\n",
       "    <tr>\n",
       "      <th>16713</th>\n",
       "      <td>1293.000000</td>\n",
       "      <td>4</td>\n",
       "      <td>7.378031</td>\n",
       "    </tr>\n",
       "  </tbody>\n",
       "</table>\n",
       "</div>"
      ],
      "text/plain": [
       "                             waiting_time_seconds  number_of_orders  \\\n",
       "store_address_id_grouped_v2                                           \n",
       "18300                                 1146.215768               977   \n",
       "Other                                  546.892027               633   \n",
       "15727                                  837.187500               256   \n",
       "30640                                 1183.328859               157   \n",
       "85260                                  740.105691               124   \n",
       "15910                                 1224.903846                52   \n",
       "15927                                  701.140845                71   \n",
       "50845                                 1085.205882                38   \n",
       "19434                                  821.638889                36   \n",
       "88585                                  966.277778                18   \n",
       "82665                                 1252.153846                13   \n",
       "51356                                  664.521739                24   \n",
       "15912                                  543.681818                22   \n",
       "23968                                 1080.666667                 9   \n",
       "88704                                 1112.857143                 8   \n",
       "15908                                  556.333333                15   \n",
       "88691                                 1097.571429                 7   \n",
       "16698                                 1549.000000                 4   \n",
       "18034                                 1761.333333                 3   \n",
       "16713                                 1293.000000                 4   \n",
       "\n",
       "                             weighted_waiting_time  \n",
       "store_address_id_grouped_v2                         \n",
       "18300                                  1597.507568  \n",
       "Other                                   493.841160  \n",
       "15727                                   305.734665  \n",
       "30640                                   265.025151  \n",
       "85260                                   130.917412  \n",
       "15910                                    90.863053  \n",
       "15927                                    71.014265  \n",
       "50845                                    58.827138  \n",
       "19434                                    42.195435  \n",
       "88585                                    24.811698  \n",
       "82665                                    23.221113  \n",
       "51356                                    22.751101  \n",
       "15912                                    17.062767  \n",
       "23968                                    13.874465  \n",
       "88704                                    12.700224  \n",
       "15908                                    11.904422  \n",
       "88691                                    10.960057  \n",
       "16698                                     8.838802  \n",
       "18034                                     7.537803  \n",
       "16713                                     7.378031  "
      ]
     },
     "execution_count": 412,
     "metadata": {},
     "output_type": "execute_result"
    }
   ],
   "source": [
    "# Agregate the stores IDs from the plot above into a table where we will compute the number of orders\n",
    "# associated with each store and the average waiting time weighted by the median waiting time of the dataset\n",
    "\n",
    "stores_grouped = (\n",
    "    df.groupby(\"store_address_id_grouped_v2\")[\"waiting_time_seconds\"]\n",
    "    .mean()\n",
    "    .sort_values(ascending=False)\n",
    "    .to_frame()\n",
    "    .reset_index()\n",
    ")\n",
    "stores_grouped_occurences = df.store_address_id_grouped_v2.value_counts().reset_index()\n",
    "stores_grouped_occurences.rename(\n",
    "    columns={\n",
    "        \"index\": \"store_address_id_grouped_v2\",\n",
    "        \"store_address_id_grouped_v2\": \"number_of_orders\",\n",
    "    },\n",
    "    inplace=True,\n",
    ")\n",
    "stores_grouped = stores_grouped.merge(\n",
    "    stores_grouped_occurences, how=\"left\", on=\"store_address_id_grouped_v2\"\n",
    ")\n",
    "stores_grouped.set_index(\"store_address_id_grouped_v2\", inplace=True)\n",
    "stores_grouped[\"weighted_waiting_time\"] = (\n",
    "    stores_grouped.waiting_time_seconds * stores_grouped.number_of_orders\n",
    ") / df.waiting_time_seconds.median()\n",
    "\n",
    "stores_grouped.sort_values(\"weighted_waiting_time\", ascending=False)"
   ]
  },
  {
   "cell_type": "markdown",
   "id": "ce68d73b-8c6c-42c5-8364-f492ed284275",
   "metadata": {},
   "source": [
    "By doing this grouping of store_address_id we observe that there is a clear worst offender in terms of stores that exist in the dataset. That worst offender being store **18300**"
   ]
  },
  {
   "cell_type": "code",
   "execution_count": null,
   "id": "c87c326f-ff11-434f-95c6-0dd53da3deba",
   "metadata": {},
   "outputs": [],
   "source": []
  }
 ],
 "metadata": {
  "kernelspec": {
   "display_name": "fintech",
   "language": "python",
   "name": "fintech"
  },
  "language_info": {
   "codemirror_mode": {
    "name": "ipython",
    "version": 3
   },
   "file_extension": ".py",
   "mimetype": "text/x-python",
   "name": "python",
   "nbconvert_exporter": "python",
   "pygments_lexer": "ipython3",
   "version": "3.10.9"
  }
 },
 "nbformat": 4,
 "nbformat_minor": 5
}
